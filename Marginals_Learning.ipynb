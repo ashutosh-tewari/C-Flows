{
 "cells": [
  {
   "cell_type": "code",
   "execution_count": null,
   "metadata": {},
   "outputs": [],
   "source": [
    "# magic command for automatic reload of python modules without needing to restart the notebook\n",
    "%load_ext autoreload\n",
    "%autoreload 2"
   ]
  },
  {
   "cell_type": "code",
   "execution_count": 39,
   "metadata": {},
   "outputs": [],
   "source": [
    "import numpy as np\n",
    "import scipy as sc\n",
    "import tensorflow as tf\n",
    "import tensorflow_probability as tfp\n",
    "tfd=tfp.distributions\n",
    "tfb=tfp.bijectors\n",
    "from scipy import io\n",
    "import time\n",
    "import matplotlib.pyplot as plt\n",
    "from sklearn import mixture\n",
    "import joblib as jbl\n",
    "import sys\n",
    "import os\n",
    "import sklearn\n",
    "import pandas as pd\n",
    "import utils as utl\n",
    "import seaborn as sns\n",
    "from KDEpy import FFTKDE\n",
    "from custom_bijectors import Marginal_transforms\n",
    "from FlowDists import CopulaFlow, RealNVPFlow\n",
    "from sklearn import preprocessing as preproc\n",
    "from UCI_data_preproc.gas import GAS\n",
    "from UCI_data_preproc.power import POWER\n",
    "from UCI_data_preproc.miniboone import MINIBOONE\n",
    "from UCI_data_preproc.hepmass import HEPMASS"
   ]
  },
  {
   "cell_type": "code",
   "execution_count": 46,
   "metadata": {
    "scrolled": true
   },
   "outputs": [
    {
     "name": "stdout",
     "output_type": "stream",
     "text": [
      "Number of Training samples = 22183, Number of dimensions = 43\n",
      "Number of Validation samples = 7373, Number of dimensions = 43\n",
      "Number of Testing samples = 3648, Number of dimensions = 43\n",
      "Removinng 306 outliers out of total 22183 datapoints.\n",
      "Removinng 68 outliers out of total 7373 datapoints.\n",
      "Removinng 41 outliers out of total 3648 datapoints.\n"
     ]
    }
   ],
   "source": [
    "# Load UCI  dataset\n",
    "data_trn_native=MINIBOONE().trn.x\n",
    "data_tst_native=MINIBOONE().tst.x\n",
    "\n",
    "# splitting the data into training, testing and validation sets\n",
    "data_trn_native,data_vld_native,_ = utl.splitData(data_trn_native,[0.75,0.25])\n",
    "\n",
    "n_samps_trn,n_dims = data_trn_native.shape\n",
    "n_samps_vld,_ = data_vld_native.shape\n",
    "n_samps_tst,_ = data_tst_native.shape\n",
    "\n",
    "print(f'Number of Training samples = {n_samps_trn}, Number of dimensions = {n_dims}')\n",
    "print(f'Number of Validation samples = {n_samps_vld}, Number of dimensions = {n_dims}')\n",
    "print(f'Number of Testing samples = {n_samps_tst}, Number of dimensions = {n_dims}')\n",
    "\n",
    "# removing the outliers from training data\n",
    "data_trn_native, bounds = utl.removeOutliers(data_trn_native)\n",
    "data_vld_native,_ = utl.removeOutliers(data_vld_native,bounds)\n",
    "data_tst_native,_ = utl.removeOutliers(data_tst_native,bounds)"
   ]
  },
  {
   "cell_type": "code",
   "execution_count": 47,
   "metadata": {},
   "outputs": [
    {
     "name": "stderr",
     "output_type": "stream",
     "text": [
      "C:\\Users\\tewar\\Anaconda3\\envs\\myPythonEnv_updated\\lib\\site-packages\\scipy\\stats\\_morestats.py:924: RuntimeWarning: divide by zero encountered in log\n",
      "  return (lmb - 1) * np.sum(logdata, axis=0) - N/2 * np.log(variance)\n",
      "C:\\Users\\tewar\\Anaconda3\\envs\\myPythonEnv_updated\\lib\\site-packages\\scipy\\optimize\\_optimize.py:2769: RuntimeWarning: invalid value encountered in double_scalars\n",
      "  w = xb - ((xb - xc) * tmp2 - (xb - xa) * tmp1) / denom\n",
      "C:\\Users\\tewar\\Anaconda3\\envs\\myPythonEnv_updated\\lib\\site-packages\\scipy\\optimize\\_optimize.py:2308: RuntimeWarning: invalid value encountered in double_scalars\n",
      "  tmp1 = (x - w) * (fx - fv)\n",
      "C:\\Users\\tewar\\Anaconda3\\envs\\myPythonEnv_updated\\lib\\site-packages\\scipy\\optimize\\_optimize.py:2309: RuntimeWarning: invalid value encountered in double_scalars\n",
      "  tmp2 = (x - v) * (fx - fw)\n",
      "C:\\Users\\tewar\\Anaconda3\\envs\\myPythonEnv_updated\\lib\\site-packages\\numpy\\core\\_methods.py:247: RuntimeWarning: overflow encountered in reduce\n",
      "  ret = umr_sum(x, axis, dtype, out, keepdims=keepdims, where=where)\n"
     ]
    }
   ],
   "source": [
    "# preprocessing data\n",
    "# power transforming the data\n",
    "data_trn,pw_trans,pw_trans_params=utl.power_transform(data_trn_native)\n",
    "data_vld,_,_=utl.power_transform(data_vld_native,pw_trans)\n",
    "data_tst,_,_=utl.power_transform(data_tst_native,pw_trans)"
   ]
  },
  {
   "cell_type": "code",
   "execution_count": 48,
   "metadata": {},
   "outputs": [],
   "source": [
    "# downsampling the training data to have a representative samps for non-parametric marginal\n",
    "data_trn_native_sorted=tf.sort(data_trn_native,axis=0)\n",
    "n_trn=data_trn_native.shape[0]\n",
    "emp_cdfs=tf.constant([i/n_trn for i in range(n_trn)])\n",
    "req_cdfs=tf.constant([i/999 for i in range(1000)])\n",
    "sort_idx=tf.searchsorted(emp_cdfs,req_cdfs,side='right')-1\n",
    "data_trn_native_samps_sorted = tf.gather(data_trn_native_sorted,sort_idx,axis=0)"
   ]
  },
  {
   "cell_type": "code",
   "execution_count": 50,
   "metadata": {},
   "outputs": [
    {
     "name": "stdout",
     "output_type": "stream",
     "text": [
      "@ Iter:0,                 Training error: 186553312.0,                 Validation error: 175088736.0,                 Time Elapsed: 0.8 s\n",
      "@ Iter:100,                 Training error: 180053424.0,                 Validation error: 139018592.0,                 Time Elapsed: 2.1 s\n",
      "@ Iter:200,                 Training error: 175196352.0,                 Validation error: 130210280.0,                 Time Elapsed: 3.4 s\n",
      "@ Iter:300,                 Training error: 94517240.0,                 Validation error: 133348608.0,                 Time Elapsed: 4.7 s\n",
      "@ Iter:400,                 Training error: 98618928.0,                 Validation error: 84008544.0,                 Time Elapsed: 6.0 s\n",
      "@ Iter:500,                 Training error: 96005472.0,                 Validation error: 81036768.0,                 Time Elapsed: 7.3 s\n",
      "@ Iter:600,                 Training error: 68085896.0,                 Validation error: 89243592.0,                 Time Elapsed: 8.6 s\n",
      "@ Iter:700,                 Training error: 86154352.0,                 Validation error: 76778160.0,                 Time Elapsed: 9.9 s\n",
      "@ Iter:800,                 Training error: 31060772.0,                 Validation error: 49049968.0,                 Time Elapsed: 11.2 s\n",
      "@ Iter:900,                 Training error: 63479864.0,                 Validation error: 50867716.0,                 Time Elapsed: 12.6 s\n",
      "@ Iter:1000,                 Training error: 55555584.0,                 Validation error: 56055880.0,                 Time Elapsed: 13.9 s\n",
      "@ Iter:1100,                 Training error: 41119952.0,                 Validation error: 49162528.0,                 Time Elapsed: 15.3 s\n",
      "@ Iter:1200,                 Training error: 33757592.0,                 Validation error: 43046204.0,                 Time Elapsed: 16.6 s\n",
      "@ Iter:1300,                 Training error: 29253740.0,                 Validation error: 34168544.0,                 Time Elapsed: 17.9 s\n",
      "@ Iter:1400,                 Training error: 42996728.0,                 Validation error: 36099516.0,                 Time Elapsed: 19.2 s\n",
      "@ Iter:1500,                 Training error: 31857598.0,                 Validation error: 27464900.0,                 Time Elapsed: 20.6 s\n",
      "@ Iter:1600,                 Training error: 25225686.0,                 Validation error: 31771116.0,                 Time Elapsed: 21.8 s\n",
      "@ Iter:1700,                 Training error: 24670558.0,                 Validation error: 32577196.0,                 Time Elapsed: 23.2 s\n",
      "@ Iter:1800,                 Training error: 27944770.0,                 Validation error: 26980666.0,                 Time Elapsed: 24.5 s\n",
      "@ Iter:1900,                 Training error: 22592452.0,                 Validation error: 27281664.0,                 Time Elapsed: 25.8 s\n",
      "@ Iter:2000,                 Training error: 21659130.0,                 Validation error: 22985730.0,                 Time Elapsed: 27.2 s\n",
      "@ Iter:2100,                 Training error: 21481828.0,                 Validation error: 20637048.0,                 Time Elapsed: 28.5 s\n",
      "@ Iter:2200,                 Training error: 19455370.0,                 Validation error: 20754906.0,                 Time Elapsed: 29.8 s\n",
      "@ Iter:2300,                 Training error: 15737520.0,                 Validation error: 17319074.0,                 Time Elapsed: 31.2 s\n",
      "@ Iter:2400,                 Training error: 17814516.0,                 Validation error: 17978382.0,                 Time Elapsed: 32.5 s\n",
      "@ Iter:2500,                 Training error: 19112888.0,                 Validation error: 18651478.0,                 Time Elapsed: 33.8 s\n",
      "@ Iter:2600,                 Training error: 15713809.0,                 Validation error: 14684652.0,                 Time Elapsed: 35.1 s\n",
      "@ Iter:2700,                 Training error: 14559393.0,                 Validation error: 14797904.0,                 Time Elapsed: 36.5 s\n",
      "@ Iter:2800,                 Training error: 16357565.0,                 Validation error: 10859045.0,                 Time Elapsed: 37.8 s\n",
      "@ Iter:2900,                 Training error: 11032646.0,                 Validation error: 10710038.0,                 Time Elapsed: 39.2 s\n",
      "@ Iter:3000,                 Training error: 12449581.0,                 Validation error: 11337769.0,                 Time Elapsed: 40.5 s\n",
      "@ Iter:3100,                 Training error: 13372126.0,                 Validation error: 10925811.0,                 Time Elapsed: 41.8 s\n",
      "@ Iter:3200,                 Training error: 12499194.0,                 Validation error: 9765449.0,                 Time Elapsed: 43.1 s\n",
      "@ Iter:3300,                 Training error: 8978377.0,                 Validation error: 8328879.0,                 Time Elapsed: 44.5 s\n",
      "@ Iter:3400,                 Training error: 10555991.0,                 Validation error: 8612464.0,                 Time Elapsed: 45.8 s\n",
      "@ Iter:3500,                 Training error: 9497134.0,                 Validation error: 9102851.0,                 Time Elapsed: 47.1 s\n",
      "@ Iter:3600,                 Training error: 6559505.0,                 Validation error: 8459503.0,                 Time Elapsed: 48.4 s\n",
      "@ Iter:3700,                 Training error: 8211384.5,                 Validation error: 7218401.0,                 Time Elapsed: 49.7 s\n",
      "@ Iter:3800,                 Training error: 6120136.0,                 Validation error: 8338545.5,                 Time Elapsed: 51.0 s\n",
      "@ Iter:3900,                 Training error: 7479607.0,                 Validation error: 6898680.5,                 Time Elapsed: 52.4 s\n",
      "@ Iter:4000,                 Training error: 6118933.0,                 Validation error: 6704429.0,                 Time Elapsed: 53.7 s\n",
      "@ Iter:4100,                 Training error: 8041728.0,                 Validation error: 6822613.0,                 Time Elapsed: 55.1 s\n",
      "@ Iter:4200,                 Training error: 4535686.5,                 Validation error: 6161356.5,                 Time Elapsed: 56.5 s\n",
      "@ Iter:4300,                 Training error: 7367648.5,                 Validation error: 5160220.0,                 Time Elapsed: 57.8 s\n",
      "@ Iter:4400,                 Training error: 4986626.0,                 Validation error: 4580586.5,                 Time Elapsed: 59.1 s\n",
      "@ Iter:4500,                 Training error: 4621043.5,                 Validation error: 5240224.5,                 Time Elapsed: 60.4 s\n",
      "@ Iter:4600,                 Training error: 4927845.0,                 Validation error: 4717078.0,                 Time Elapsed: 61.7 s\n",
      "@ Iter:4700,                 Training error: 4887968.5,                 Validation error: 4252834.5,                 Time Elapsed: 63.0 s\n",
      "@ Iter:4800,                 Training error: 5176192.5,                 Validation error: 4626054.5,                 Time Elapsed: 64.4 s\n",
      "@ Iter:4900,                 Training error: 4987291.5,                 Validation error: 5036866.0,                 Time Elapsed: 65.7 s\n",
      "@ Iter:5000,                 Training error: 3049198.25,                 Validation error: 4277988.0,                 Time Elapsed: 67.0 s\n",
      "@ Iter:5100,                 Training error: 2533980.75,                 Validation error: 3594853.0,                 Time Elapsed: 68.4 s\n",
      "@ Iter:5200,                 Training error: 3847416.25,                 Validation error: 2980710.0,                 Time Elapsed: 69.7 s\n",
      "@ Iter:5300,                 Training error: 3965860.5,                 Validation error: 3825103.5,                 Time Elapsed: 71.0 s\n",
      "@ Iter:5400,                 Training error: 3250389.75,                 Validation error: 3022503.5,                 Time Elapsed: 72.9 s\n",
      "@ Iter:5500,                 Training error: 3120668.5,                 Validation error: 3318963.75,                 Time Elapsed: 74.3 s\n",
      "@ Iter:5600,                 Training error: 3392171.75,                 Validation error: 3165717.5,                 Time Elapsed: 75.7 s\n",
      "@ Iter:5700,                 Training error: 2981885.5,                 Validation error: 2725252.75,                 Time Elapsed: 77.4 s\n",
      "@ Iter:5800,                 Training error: 2721154.75,                 Validation error: 2767061.25,                 Time Elapsed: 78.9 s\n"
     ]
    },
    {
     "name": "stdout",
     "output_type": "stream",
     "text": [
      "@ Iter:5900,                 Training error: 2572896.75,                 Validation error: 2653556.75,                 Time Elapsed: 80.3 s\n",
      "@ Iter:6000,                 Training error: 2156414.0,                 Validation error: 2422189.75,                 Time Elapsed: 81.5 s\n",
      "@ Iter:6100,                 Training error: 2754747.75,                 Validation error: 2330914.0,                 Time Elapsed: 82.9 s\n",
      "@ Iter:6200,                 Training error: 2258526.75,                 Validation error: 2349441.0,                 Time Elapsed: 84.1 s\n",
      "@ Iter:6300,                 Training error: 1998506.0,                 Validation error: 2385450.25,                 Time Elapsed: 85.4 s\n",
      "@ Iter:6400,                 Training error: 1828847.75,                 Validation error: 2018557.625,                 Time Elapsed: 86.9 s\n",
      "@ Iter:6500,                 Training error: 2043823.5,                 Validation error: 1945971.125,                 Time Elapsed: 88.2 s\n",
      "@ Iter:6600,                 Training error: 1841221.125,                 Validation error: 2129075.0,                 Time Elapsed: 89.5 s\n",
      "@ Iter:6700,                 Training error: 2091236.625,                 Validation error: 1887569.0,                 Time Elapsed: 90.9 s\n",
      "@ Iter:6800,                 Training error: 1866259.125,                 Validation error: 1712148.0,                 Time Elapsed: 92.2 s\n",
      "@ Iter:6900,                 Training error: 1123390.625,                 Validation error: 1638365.5,                 Time Elapsed: 93.6 s\n",
      "@ Iter:7000,                 Training error: 1492544.75,                 Validation error: 1295044.75,                 Time Elapsed: 94.9 s\n",
      "@ Iter:7100,                 Training error: 1773537.5,                 Validation error: 1569120.75,                 Time Elapsed: 96.2 s\n",
      "@ Iter:7200,                 Training error: 1639584.25,                 Validation error: 1442555.0,                 Time Elapsed: 97.5 s\n",
      "@ Iter:7300,                 Training error: 1337467.375,                 Validation error: 1434718.375,                 Time Elapsed: 98.8 s\n",
      "@ Iter:7400,                 Training error: 954913.312,                 Validation error: 1524867.875,                 Time Elapsed: 100.1 s\n",
      "@ Iter:7500,                 Training error: 1236694.625,                 Validation error: 930806.5,                 Time Elapsed: 101.4 s\n",
      "@ Iter:7600,                 Training error: 1107656.5,                 Validation error: 1263067.375,                 Time Elapsed: 102.8 s\n",
      "@ Iter:7700,                 Training error: 1109740.25,                 Validation error: 1232076.25,                 Time Elapsed: 104.2 s\n",
      "@ Iter:7800,                 Training error: 997493.25,                 Validation error: 1159645.375,                 Time Elapsed: 105.5 s\n",
      "@ Iter:7900,                 Training error: 764917.625,                 Validation error: 970514.062,                 Time Elapsed: 106.9 s\n",
      "@ Iter:8000,                 Training error: 870228.562,                 Validation error: 935131.5,                 Time Elapsed: 108.3 s\n",
      "@ Iter:8100,                 Training error: 925418.938,                 Validation error: 801713.688,                 Time Elapsed: 109.6 s\n",
      "@ Iter:8200,                 Training error: 732686.438,                 Validation error: 949070.625,                 Time Elapsed: 111.0 s\n",
      "@ Iter:8300,                 Training error: 801137.125,                 Validation error: 801172.938,                 Time Elapsed: 112.3 s\n",
      "@ Iter:8400,                 Training error: 538085.875,                 Validation error: 723663.625,                 Time Elapsed: 113.6 s\n",
      "@ Iter:8500,                 Training error: 594539.312,                 Validation error: 741718.938,                 Time Elapsed: 115.0 s\n",
      "@ Iter:8600,                 Training error: 648126.0,                 Validation error: 678827.688,                 Time Elapsed: 116.4 s\n",
      "@ Iter:8700,                 Training error: 951485.188,                 Validation error: 753530.562,                 Time Elapsed: 117.7 s\n",
      "@ Iter:8800,                 Training error: 605380.688,                 Validation error: 652460.688,                 Time Elapsed: 119.0 s\n",
      "@ Iter:8900,                 Training error: 695441.375,                 Validation error: 546138.562,                 Time Elapsed: 120.3 s\n",
      "@ Iter:9000,                 Training error: 562413.875,                 Validation error: 562082.25,                 Time Elapsed: 121.6 s\n",
      "@ Iter:9100,                 Training error: 576194.938,                 Validation error: 532330.938,                 Time Elapsed: 122.9 s\n",
      "@ Iter:9200,                 Training error: 542571.188,                 Validation error: 422403.0,                 Time Elapsed: 124.2 s\n",
      "@ Iter:9300,                 Training error: 536010.0,                 Validation error: 598780.938,                 Time Elapsed: 125.6 s\n",
      "@ Iter:9400,                 Training error: 550441.688,                 Validation error: 506902.094,                 Time Elapsed: 127.0 s\n",
      "@ Iter:9500,                 Training error: 457715.562,                 Validation error: 378015.781,                 Time Elapsed: 128.2 s\n",
      "@ Iter:9600,                 Training error: 405464.0,                 Validation error: 426437.75,                 Time Elapsed: 129.5 s\n",
      "@ Iter:9700,                 Training error: 469184.781,                 Validation error: 444962.156,                 Time Elapsed: 130.9 s\n",
      "@ Iter:9800,                 Training error: 419164.594,                 Validation error: 318799.562,                 Time Elapsed: 132.2 s\n",
      "@ Iter:9900,                 Training error: 484570.656,                 Validation error: 343720.094,                 Time Elapsed: 133.5 s\n",
      "@ Iter:10000,                 Training error: 380128.719,                 Validation error: 326258.625,                 Time Elapsed: 134.9 s\n",
      "@ Iter:10100,                 Training error: 279052.75,                 Validation error: 392459.75,                 Time Elapsed: 136.2 s\n",
      "@ Iter:10200,                 Training error: 285850.188,                 Validation error: 318108.656,                 Time Elapsed: 137.5 s\n",
      "@ Iter:10300,                 Training error: 327691.438,                 Validation error: 307937.0,                 Time Elapsed: 138.8 s\n",
      "@ Iter:10400,                 Training error: 242789.562,                 Validation error: 302582.438,                 Time Elapsed: 140.1 s\n",
      "@ Iter:10500,                 Training error: 227486.234,                 Validation error: 261089.656,                 Time Elapsed: 141.5 s\n",
      "@ Iter:10600,                 Training error: 286374.281,                 Validation error: 271361.344,                 Time Elapsed: 142.9 s\n",
      "@ Iter:10700,                 Training error: 248329.203,                 Validation error: 257384.062,                 Time Elapsed: 144.4 s\n",
      "@ Iter:10800,                 Training error: 287707.938,                 Validation error: 210631.891,                 Time Elapsed: 145.8 s\n",
      "@ Iter:10900,                 Training error: 157667.062,                 Validation error: 238425.5,                 Time Elapsed: 147.2 s\n",
      "@ Iter:11000,                 Training error: 287506.281,                 Validation error: 238863.344,                 Time Elapsed: 148.5 s\n",
      "@ Iter:11100,                 Training error: 165053.156,                 Validation error: 180659.359,                 Time Elapsed: 149.8 s\n",
      "@ Iter:11200,                 Training error: 151620.656,                 Validation error: 194570.156,                 Time Elapsed: 151.2 s\n",
      "@ Iter:11300,                 Training error: 194813.125,                 Validation error: 187289.688,                 Time Elapsed: 152.8 s\n",
      "@ Iter:11400,                 Training error: 202330.609,                 Validation error: 196633.531,                 Time Elapsed: 154.1 s\n",
      "@ Iter:11500,                 Training error: 142304.125,                 Validation error: 168825.375,                 Time Elapsed: 155.5 s\n",
      "@ Iter:11600,                 Training error: 134197.172,                 Validation error: 140458.844,                 Time Elapsed: 156.9 s\n",
      "@ Iter:11700,                 Training error: 166594.125,                 Validation error: 170354.688,                 Time Elapsed: 158.2 s\n"
     ]
    },
    {
     "name": "stdout",
     "output_type": "stream",
     "text": [
      "@ Iter:11800,                 Training error: 149151.391,                 Validation error: 132776.266,                 Time Elapsed: 159.7 s\n",
      "@ Iter:11900,                 Training error: 129243.562,                 Validation error: 99250.688,                 Time Elapsed: 161.1 s\n",
      "@ Iter:12000,                 Training error: 112000.461,                 Validation error: 108584.219,                 Time Elapsed: 162.7 s\n",
      "@ Iter:12100,                 Training error: 109208.648,                 Validation error: 96249.086,                 Time Elapsed: 164.2 s\n",
      "@ Iter:12200,                 Training error: 112225.648,                 Validation error: 101746.703,                 Time Elapsed: 165.6 s\n",
      "@ Iter:12300,                 Training error: 91526.078,                 Validation error: 80125.508,                 Time Elapsed: 167.1 s\n",
      "@ Iter:12400,                 Training error: 99017.195,                 Validation error: 79405.664,                 Time Elapsed: 168.6 s\n",
      "@ Iter:12500,                 Training error: 89496.938,                 Validation error: 87163.117,                 Time Elapsed: 170.0 s\n",
      "@ Iter:12600,                 Training error: 84931.766,                 Validation error: 91423.734,                 Time Elapsed: 171.4 s\n",
      "@ Iter:12700,                 Training error: 61109.223,                 Validation error: 53491.098,                 Time Elapsed: 172.7 s\n",
      "@ Iter:12800,                 Training error: 61914.5,                 Validation error: 70974.711,                 Time Elapsed: 174.0 s\n",
      "@ Iter:12900,                 Training error: 71067.961,                 Validation error: 67749.664,                 Time Elapsed: 175.4 s\n",
      "@ Iter:13000,                 Training error: 52530.988,                 Validation error: 61475.633,                 Time Elapsed: 176.7 s\n",
      "@ Iter:13100,                 Training error: 41350.398,                 Validation error: 71071.453,                 Time Elapsed: 178.0 s\n",
      "@ Iter:13200,                 Training error: 40754.0,                 Validation error: 85372.359,                 Time Elapsed: 179.3 s\n",
      "@ Iter:13300,                 Training error: 44536.574,                 Validation error: 57110.707,                 Time Elapsed: 180.7 s\n",
      "@ Iter:13400,                 Training error: 47094.934,                 Validation error: 49380.727,                 Time Elapsed: 181.9 s\n",
      "@ Iter:13500,                 Training error: 45716.039,                 Validation error: 53625.672,                 Time Elapsed: 183.3 s\n",
      "@ Iter:13600,                 Training error: 33629.008,                 Validation error: 44449.047,                 Time Elapsed: 184.6 s\n",
      "@ Iter:13700,                 Training error: 32107.363,                 Validation error: 41072.039,                 Time Elapsed: 185.9 s\n",
      "@ Iter:13800,                 Training error: 49207.031,                 Validation error: 30507.865,                 Time Elapsed: 187.2 s\n",
      "@ Iter:13900,                 Training error: 34937.887,                 Validation error: 30041.23,                 Time Elapsed: 188.6 s\n",
      "@ Iter:14000,                 Training error: 42244.93,                 Validation error: 35978.414,                 Time Elapsed: 189.8 s\n",
      "@ Iter:14100,                 Training error: 27308.883,                 Validation error: 33510.023,                 Time Elapsed: 191.2 s\n",
      "@ Iter:14200,                 Training error: 36249.523,                 Validation error: 34847.758,                 Time Elapsed: 192.5 s\n",
      "@ Iter:14300,                 Training error: 37046.234,                 Validation error: 29633.494,                 Time Elapsed: 193.9 s\n",
      "@ Iter:14400,                 Training error: 23663.98,                 Validation error: 26950.037,                 Time Elapsed: 195.2 s\n",
      "@ Iter:14500,                 Training error: 23342.191,                 Validation error: 27961.383,                 Time Elapsed: 196.6 s\n",
      "@ Iter:14600,                 Training error: 26041.146,                 Validation error: 21923.223,                 Time Elapsed: 197.8 s\n",
      "@ Iter:14700,                 Training error: 23635.676,                 Validation error: 16207.188,                 Time Elapsed: 199.2 s\n",
      "@ Iter:14800,                 Training error: 23202.602,                 Validation error: 25470.148,                 Time Elapsed: 200.5 s\n",
      "@ Iter:14900,                 Training error: 22351.936,                 Validation error: 17253.969,                 Time Elapsed: 201.8 s\n",
      "@ Iter:15000,                 Training error: 17356.268,                 Validation error: 20845.242,                 Time Elapsed: 203.3 s\n",
      "@ Iter:15100,                 Training error: 15952.841,                 Validation error: 17499.215,                 Time Elapsed: 204.8 s\n",
      "@ Iter:15200,                 Training error: 23583.969,                 Validation error: 20542.459,                 Time Elapsed: 206.1 s\n",
      "@ Iter:15300,                 Training error: 13931.347,                 Validation error: 20041.797,                 Time Elapsed: 207.4 s\n",
      "@ Iter:15400,                 Training error: 23048.227,                 Validation error: 13749.319,                 Time Elapsed: 208.7 s\n",
      "@ Iter:15500,                 Training error: 10710.57,                 Validation error: 12635.916,                 Time Elapsed: 210.0 s\n",
      "@ Iter:15600,                 Training error: 8800.38,                 Validation error: 9327.952,                 Time Elapsed: 211.4 s\n",
      "@ Iter:15700,                 Training error: 7922.037,                 Validation error: 8366.933,                 Time Elapsed: 212.7 s\n",
      "@ Iter:15800,                 Training error: 7881.312,                 Validation error: 6102.83,                 Time Elapsed: 214.0 s\n",
      "@ Iter:15900,                 Training error: 5723.506,                 Validation error: 6672.489,                 Time Elapsed: 215.4 s\n",
      "@ Iter:16000,                 Training error: 5273.951,                 Validation error: 5810.982,                 Time Elapsed: 216.8 s\n",
      "@ Iter:16100,                 Training error: 4774.181,                 Validation error: 5453.864,                 Time Elapsed: 218.1 s\n",
      "@ Iter:16200,                 Training error: 5461.862,                 Validation error: 4638.289,                 Time Elapsed: 219.4 s\n",
      "@ Iter:16300,                 Training error: 3989.782,                 Validation error: 4119.979,                 Time Elapsed: 220.7 s\n",
      "@ Iter:16400,                 Training error: 3748.669,                 Validation error: 3569.679,                 Time Elapsed: 222.0 s\n",
      "@ Iter:16500,                 Training error: 2905.292,                 Validation error: 3590.569,                 Time Elapsed: 223.5 s\n",
      "@ Iter:16600,                 Training error: 2720.239,                 Validation error: 3384.968,                 Time Elapsed: 225.1 s\n",
      "@ Iter:16700,                 Training error: 2725.371,                 Validation error: 2475.326,                 Time Elapsed: 226.6 s\n",
      "@ Iter:16800,                 Training error: 2573.561,                 Validation error: 2847.846,                 Time Elapsed: 227.8 s\n",
      "@ Iter:16900,                 Training error: 2316.061,                 Validation error: 2628.319,                 Time Elapsed: 229.2 s\n",
      "@ Iter:17000,                 Training error: 2219.397,                 Validation error: 2301.604,                 Time Elapsed: 230.5 s\n",
      "@ Iter:17100,                 Training error: 2274.77,                 Validation error: 2020.836,                 Time Elapsed: 231.9 s\n",
      "@ Iter:17200,                 Training error: 1850.28,                 Validation error: 1906.375,                 Time Elapsed: 233.3 s\n",
      "@ Iter:17300,                 Training error: 1801.098,                 Validation error: 1757.278,                 Time Elapsed: 234.9 s\n",
      "@ Iter:17400,                 Training error: 1743.257,                 Validation error: 1454.771,                 Time Elapsed: 236.2 s\n",
      "@ Iter:17500,                 Training error: 1283.705,                 Validation error: 1503.783,                 Time Elapsed: 237.5 s\n",
      "@ Iter:17600,                 Training error: 1441.231,                 Validation error: 1526.657,                 Time Elapsed: 239.0 s\n"
     ]
    },
    {
     "name": "stdout",
     "output_type": "stream",
     "text": [
      "@ Iter:17700,                 Training error: 1166.203,                 Validation error: 1355.726,                 Time Elapsed: 240.4 s\n",
      "@ Iter:17800,                 Training error: 1279.43,                 Validation error: 1275.416,                 Time Elapsed: 241.8 s\n",
      "@ Iter:17900,                 Training error: 1092.493,                 Validation error: 1218.752,                 Time Elapsed: 243.3 s\n",
      "@ Iter:18000,                 Training error: 1011.934,                 Validation error: 1044.084,                 Time Elapsed: 244.7 s\n",
      "@ Iter:18100,                 Training error: 1057.142,                 Validation error: 1050.895,                 Time Elapsed: 246.0 s\n",
      "@ Iter:18200,                 Training error: 908.35,                 Validation error: 1010.436,                 Time Elapsed: 247.4 s\n",
      "@ Iter:18300,                 Training error: 976.202,                 Validation error: 894.518,                 Time Elapsed: 248.9 s\n",
      "@ Iter:18400,                 Training error: 786.759,                 Validation error: 783.521,                 Time Elapsed: 250.2 s\n",
      "@ Iter:18500,                 Training error: 751.242,                 Validation error: 849.376,                 Time Elapsed: 251.5 s\n",
      "@ Iter:18600,                 Training error: 788.466,                 Validation error: 793.567,                 Time Elapsed: 252.9 s\n",
      "@ Iter:18700,                 Training error: 748.92,                 Validation error: 629.875,                 Time Elapsed: 254.3 s\n",
      "@ Iter:18800,                 Training error: 563.621,                 Validation error: 666.68,                 Time Elapsed: 255.6 s\n",
      "@ Iter:18900,                 Training error: 533.967,                 Validation error: 633.744,                 Time Elapsed: 257.1 s\n",
      "@ Iter:19000,                 Training error: 517.774,                 Validation error: 533.31,                 Time Elapsed: 258.5 s\n",
      "@ Iter:19100,                 Training error: 550.641,                 Validation error: 567.3,                 Time Elapsed: 259.8 s\n",
      "@ Iter:19200,                 Training error: 478.359,                 Validation error: 510.472,                 Time Elapsed: 261.2 s\n",
      "@ Iter:19300,                 Training error: 493.49,                 Validation error: 506.704,                 Time Elapsed: 262.7 s\n",
      "@ Iter:19400,                 Training error: 471.282,                 Validation error: 429.506,                 Time Elapsed: 264.0 s\n",
      "@ Iter:19500,                 Training error: 423.99,                 Validation error: 440.927,                 Time Elapsed: 265.5 s\n",
      "@ Iter:19600,                 Training error: 404.686,                 Validation error: 406.226,                 Time Elapsed: 266.9 s\n",
      "@ Iter:19700,                 Training error: 350.243,                 Validation error: 374.235,                 Time Elapsed: 268.3 s\n",
      "@ Iter:19800,                 Training error: 397.666,                 Validation error: 348.143,                 Time Elapsed: 269.6 s\n",
      "@ Iter:19900,                 Training error: 330.912,                 Validation error: 363.657,                 Time Elapsed: 271.0 s\n",
      "@ Iter:20000,                 Training error: 399.345,                 Validation error: 307.029,                 Time Elapsed: 272.3 s\n",
      "@ Iter:20100,                 Training error: 289.055,                 Validation error: 299.958,                 Time Elapsed: 273.6 s\n",
      "@ Iter:20200,                 Training error: 228.572,                 Validation error: 288.865,                 Time Elapsed: 275.1 s\n",
      "@ Iter:20300,                 Training error: 265.995,                 Validation error: 286.018,                 Time Elapsed: 276.5 s\n",
      "@ Iter:20400,                 Training error: 261.377,                 Validation error: 255.698,                 Time Elapsed: 277.9 s\n",
      "@ Iter:20500,                 Training error: 217.653,                 Validation error: 264.062,                 Time Elapsed: 279.3 s\n",
      "@ Iter:20600,                 Training error: 216.06,                 Validation error: 235.123,                 Time Elapsed: 280.6 s\n",
      "@ Iter:20700,                 Training error: 187.538,                 Validation error: 209.613,                 Time Elapsed: 282.0 s\n",
      "@ Iter:20800,                 Training error: 211.358,                 Validation error: 212.124,                 Time Elapsed: 283.5 s\n",
      "@ Iter:20900,                 Training error: 183.61,                 Validation error: 182.923,                 Time Elapsed: 284.9 s\n",
      "@ Iter:21000,                 Training error: 161.615,                 Validation error: 187.142,                 Time Elapsed: 286.2 s\n",
      "@ Iter:21100,                 Training error: 158.598,                 Validation error: 167.488,                 Time Elapsed: 287.6 s\n",
      "@ Iter:21200,                 Training error: 186.318,                 Validation error: 175.323,                 Time Elapsed: 288.9 s\n",
      "@ Iter:21300,                 Training error: 146.994,                 Validation error: 161.77,                 Time Elapsed: 290.2 s\n",
      "@ Iter:21400,                 Training error: 155.095,                 Validation error: 171.3,                 Time Elapsed: 291.5 s\n",
      "@ Iter:21500,                 Training error: 147.723,                 Validation error: 144.805,                 Time Elapsed: 292.9 s\n",
      "@ Iter:21600,                 Training error: 146.82,                 Validation error: 133.394,                 Time Elapsed: 294.2 s\n",
      "@ Iter:21700,                 Training error: 126.806,                 Validation error: 127.827,                 Time Elapsed: 295.5 s\n",
      "@ Iter:21800,                 Training error: 121.628,                 Validation error: 117.315,                 Time Elapsed: 296.9 s\n",
      "@ Iter:21900,                 Training error: 99.387,                 Validation error: 129.415,                 Time Elapsed: 298.1 s\n",
      "@ Iter:22000,                 Training error: 113.096,                 Validation error: 115.46,                 Time Elapsed: 299.5 s\n",
      "@ Iter:22100,                 Training error: 105.229,                 Validation error: 108.916,                 Time Elapsed: 300.9 s\n",
      "@ Iter:22200,                 Training error: 98.15,                 Validation error: 100.614,                 Time Elapsed: 302.2 s\n",
      "@ Iter:22300,                 Training error: 95.518,                 Validation error: 96.058,                 Time Elapsed: 303.8 s\n",
      "@ Iter:22400,                 Training error: 82.279,                 Validation error: 90.952,                 Time Elapsed: 305.4 s\n",
      "@ Iter:22500,                 Training error: 81.126,                 Validation error: 81.484,                 Time Elapsed: 306.9 s\n",
      "@ Iter:22600,                 Training error: 86.588,                 Validation error: 89.74,                 Time Elapsed: 308.4 s\n",
      "@ Iter:22700,                 Training error: 76.189,                 Validation error: 75.758,                 Time Elapsed: 310.0 s\n",
      "@ Iter:22800,                 Training error: 77.767,                 Validation error: 74.607,                 Time Elapsed: 311.5 s\n",
      "@ Iter:22900,                 Training error: 72.719,                 Validation error: 67.985,                 Time Elapsed: 313.0 s\n",
      "@ Iter:23000,                 Training error: 62.432,                 Validation error: 68.372,                 Time Elapsed: 314.4 s\n",
      "@ Iter:23100,                 Training error: 58.08,                 Validation error: 64.958,                 Time Elapsed: 315.8 s\n",
      "@ Iter:23200,                 Training error: 61.381,                 Validation error: 55.25,                 Time Elapsed: 317.4 s\n",
      "@ Iter:23300,                 Training error: 51.631,                 Validation error: 58.134,                 Time Elapsed: 319.0 s\n",
      "@ Iter:23400,                 Training error: 54.889,                 Validation error: 52.033,                 Time Elapsed: 320.4 s\n",
      "@ Iter:23500,                 Training error: 58.517,                 Validation error: 52.81,                 Time Elapsed: 322.0 s\n",
      "@ Iter:23600,                 Training error: 48.78,                 Validation error: 54.058,                 Time Elapsed: 323.5 s\n",
      "@ Iter:23700,                 Training error: 46.36,                 Validation error: 49.549,                 Time Elapsed: 325.0 s\n"
     ]
    },
    {
     "name": "stdout",
     "output_type": "stream",
     "text": [
      "@ Iter:23800,                 Training error: 45.525,                 Validation error: 52.84,                 Time Elapsed: 326.4 s\n",
      "@ Iter:23900,                 Training error: 40.519,                 Validation error: 47.504,                 Time Elapsed: 327.9 s\n",
      "@ Iter:24000,                 Training error: 39.08,                 Validation error: 40.966,                 Time Elapsed: 329.3 s\n",
      "@ Iter:24100,                 Training error: 37.637,                 Validation error: 38.732,                 Time Elapsed: 330.6 s\n",
      "@ Iter:24200,                 Training error: 42.764,                 Validation error: 39.435,                 Time Elapsed: 332.0 s\n",
      "@ Iter:24300,                 Training error: 33.793,                 Validation error: 33.198,                 Time Elapsed: 333.4 s\n",
      "@ Iter:24400,                 Training error: 34.901,                 Validation error: 31.397,                 Time Elapsed: 334.9 s\n",
      "@ Iter:24500,                 Training error: 29.844,                 Validation error: 29.969,                 Time Elapsed: 336.3 s\n",
      "@ Iter:24600,                 Training error: 26.672,                 Validation error: 30.132,                 Time Elapsed: 337.7 s\n",
      "@ Iter:24700,                 Training error: 26.911,                 Validation error: 28.749,                 Time Elapsed: 339.2 s\n",
      "@ Iter:24800,                 Training error: 30.187,                 Validation error: 27.056,                 Time Elapsed: 340.5 s\n",
      "@ Iter:24900,                 Training error: 28.702,                 Validation error: 24.989,                 Time Elapsed: 341.9 s\n",
      "@ Iter:25000,                 Training error: 25.085,                 Validation error: 24.963,                 Time Elapsed: 343.3 s\n",
      "@ Iter:25100,                 Training error: 21.856,                 Validation error: 25.558,                 Time Elapsed: 344.7 s\n",
      "@ Iter:25200,                 Training error: 23.059,                 Validation error: 24.193,                 Time Elapsed: 346.1 s\n",
      "@ Iter:25300,                 Training error: 19.682,                 Validation error: 21.786,                 Time Elapsed: 347.5 s\n",
      "@ Iter:25400,                 Training error: 19.872,                 Validation error: 19.56,                 Time Elapsed: 348.8 s\n",
      "@ Iter:25500,                 Training error: 17.837,                 Validation error: 19.504,                 Time Elapsed: 350.2 s\n",
      "@ Iter:25600,                 Training error: 17.246,                 Validation error: 19.564,                 Time Elapsed: 351.5 s\n",
      "@ Iter:25700,                 Training error: 16.383,                 Validation error: 19.894,                 Time Elapsed: 352.9 s\n",
      "@ Iter:25800,                 Training error: 17.201,                 Validation error: 16.678,                 Time Elapsed: 354.3 s\n",
      "@ Iter:25900,                 Training error: 17.562,                 Validation error: 17.336,                 Time Elapsed: 355.6 s\n",
      "@ Iter:26000,                 Training error: 11.931,                 Validation error: 15.251,                 Time Elapsed: 357.0 s\n",
      "@ Iter:26100,                 Training error: 15.899,                 Validation error: 16.78,                 Time Elapsed: 358.4 s\n",
      "@ Iter:26200,                 Training error: 11.423,                 Validation error: 14.312,                 Time Elapsed: 359.8 s\n",
      "@ Iter:26300,                 Training error: 12.699,                 Validation error: 13.265,                 Time Elapsed: 361.2 s\n",
      "@ Iter:26400,                 Training error: 13.356,                 Validation error: 13.403,                 Time Elapsed: 362.6 s\n",
      "@ Iter:26500,                 Training error: 13.928,                 Validation error: 12.093,                 Time Elapsed: 363.9 s\n",
      "@ Iter:26600,                 Training error: 13.341,                 Validation error: 12.663,                 Time Elapsed: 365.3 s\n",
      "@ Iter:26700,                 Training error: 11.251,                 Validation error: 12.387,                 Time Elapsed: 366.6 s\n",
      "@ Iter:26800,                 Training error: 11.137,                 Validation error: 10.661,                 Time Elapsed: 367.9 s\n",
      "@ Iter:26900,                 Training error: 10.971,                 Validation error: 9.953,                 Time Elapsed: 369.3 s\n",
      "@ Iter:27000,                 Training error: 9.362,                 Validation error: 10.373,                 Time Elapsed: 370.7 s\n",
      "@ Iter:27100,                 Training error: 10.05,                 Validation error: 9.812,                 Time Elapsed: 372.2 s\n",
      "@ Iter:27200,                 Training error: 9.1,                 Validation error: 9.18,                 Time Elapsed: 373.6 s\n",
      "@ Iter:27300,                 Training error: 9.788,                 Validation error: 8.634,                 Time Elapsed: 375.0 s\n",
      "@ Iter:27400,                 Training error: 9.162,                 Validation error: 8.81,                 Time Elapsed: 376.4 s\n",
      "@ Iter:27500,                 Training error: 8.17,                 Validation error: 8.258,                 Time Elapsed: 377.7 s\n",
      "@ Iter:27600,                 Training error: 7.638,                 Validation error: 7.915,                 Time Elapsed: 379.1 s\n",
      "@ Iter:27700,                 Training error: 7.348,                 Validation error: 7.289,                 Time Elapsed: 380.5 s\n",
      "@ Iter:27800,                 Training error: 6.308,                 Validation error: 7.611,                 Time Elapsed: 381.8 s\n",
      "@ Iter:27900,                 Training error: 6.419,                 Validation error: 7.856,                 Time Elapsed: 383.2 s\n",
      "@ Iter:28000,                 Training error: 6.589,                 Validation error: 6.616,                 Time Elapsed: 384.6 s\n",
      "@ Iter:28100,                 Training error: 5.847,                 Validation error: 6.551,                 Time Elapsed: 386.0 s\n",
      "@ Iter:28200,                 Training error: 6.079,                 Validation error: 6.254,                 Time Elapsed: 387.5 s\n",
      "@ Iter:28300,                 Training error: 5.848,                 Validation error: 6.604,                 Time Elapsed: 389.0 s\n",
      "@ Iter:28400,                 Training error: 5.443,                 Validation error: 5.777,                 Time Elapsed: 390.5 s\n",
      "@ Iter:28500,                 Training error: 6.709,                 Validation error: 5.619,                 Time Elapsed: 392.1 s\n",
      "@ Iter:28600,                 Training error: 5.111,                 Validation error: 5.42,                 Time Elapsed: 393.5 s\n",
      "@ Iter:28700,                 Training error: 4.559,                 Validation error: 4.924,                 Time Elapsed: 395.0 s\n",
      "@ Iter:28800,                 Training error: 5.033,                 Validation error: 4.951,                 Time Elapsed: 396.4 s\n",
      "@ Iter:28900,                 Training error: 4.575,                 Validation error: 4.813,                 Time Elapsed: 397.7 s\n",
      "@ Iter:29000,                 Training error: 4.788,                 Validation error: 4.504,                 Time Elapsed: 399.1 s\n",
      "@ Iter:29100,                 Training error: 4.057,                 Validation error: 4.295,                 Time Elapsed: 400.7 s\n",
      "@ Iter:29200,                 Training error: 4.072,                 Validation error: 4.478,                 Time Elapsed: 402.1 s\n",
      "@ Iter:29300,                 Training error: 4.161,                 Validation error: 4.157,                 Time Elapsed: 403.5 s\n",
      "@ Iter:29400,                 Training error: 3.899,                 Validation error: 4.056,                 Time Elapsed: 404.8 s\n",
      "@ Iter:29500,                 Training error: 3.388,                 Validation error: 3.91,                 Time Elapsed: 406.1 s\n",
      "@ Iter:29600,                 Training error: 3.537,                 Validation error: 3.771,                 Time Elapsed: 407.5 s\n",
      "@ Iter:29700,                 Training error: 3.513,                 Validation error: 3.512,                 Time Elapsed: 408.9 s\n",
      "@ Iter:29800,                 Training error: 3.28,                 Validation error: 3.584,                 Time Elapsed: 410.2 s\n",
      "@ Iter:29900,                 Training error: 3.28,                 Validation error: 3.346,                 Time Elapsed: 411.5 s\n"
     ]
    },
    {
     "name": "stdout",
     "output_type": "stream",
     "text": [
      "@ Iter:30000,                 Training error: 2.939,                 Validation error: 3.463,                 Time Elapsed: 412.9 s\n",
      "@ Iter:30100,                 Training error: 2.887,                 Validation error: 3.334,                 Time Elapsed: 414.3 s\n",
      "@ Iter:30200,                 Training error: 3.436,                 Validation error: 3.052,                 Time Elapsed: 415.8 s\n",
      "@ Iter:30300,                 Training error: 2.758,                 Validation error: 2.847,                 Time Elapsed: 417.5 s\n",
      "@ Iter:30400,                 Training error: 2.985,                 Validation error: 2.984,                 Time Elapsed: 418.9 s\n",
      "@ Iter:30500,                 Training error: 2.744,                 Validation error: 2.849,                 Time Elapsed: 420.3 s\n",
      "@ Iter:30600,                 Training error: 2.847,                 Validation error: 2.811,                 Time Elapsed: 421.8 s\n",
      "@ Iter:30700,                 Training error: 2.685,                 Validation error: 2.595,                 Time Elapsed: 423.1 s\n",
      "@ Iter:30800,                 Training error: 2.554,                 Validation error: 2.692,                 Time Elapsed: 424.5 s\n",
      "@ Iter:30900,                 Training error: 2.646,                 Validation error: 2.501,                 Time Elapsed: 425.8 s\n",
      "@ Iter:31000,                 Training error: 2.328,                 Validation error: 2.446,                 Time Elapsed: 427.2 s\n",
      "@ Iter:31100,                 Training error: 2.649,                 Validation error: 2.396,                 Time Elapsed: 428.5 s\n",
      "@ Iter:31200,                 Training error: 2.505,                 Validation error: 2.354,                 Time Elapsed: 429.8 s\n",
      "@ Iter:31300,                 Training error: 2.348,                 Validation error: 2.436,                 Time Elapsed: 431.2 s\n",
      "@ Iter:31400,                 Training error: 2.275,                 Validation error: 2.29,                 Time Elapsed: 432.5 s\n",
      "@ Iter:31500,                 Training error: 2.16,                 Validation error: 2.332,                 Time Elapsed: 433.8 s\n",
      "@ Iter:31600,                 Training error: 2.196,                 Validation error: 2.262,                 Time Elapsed: 435.2 s\n",
      "@ Iter:31700,                 Training error: 2.258,                 Validation error: 2.123,                 Time Elapsed: 436.6 s\n",
      "@ Iter:31800,                 Training error: 2.034,                 Validation error: 2.203,                 Time Elapsed: 438.0 s\n",
      "@ Iter:31900,                 Training error: 1.981,                 Validation error: 1.97,                 Time Elapsed: 439.4 s\n",
      "@ Iter:32000,                 Training error: 2.081,                 Validation error: 2.065,                 Time Elapsed: 440.7 s\n",
      "@ Iter:32100,                 Training error: 1.942,                 Validation error: 1.964,                 Time Elapsed: 442.1 s\n",
      "@ Iter:32200,                 Training error: 2.035,                 Validation error: 1.905,                 Time Elapsed: 443.5 s\n",
      "@ Iter:32300,                 Training error: 1.887,                 Validation error: 1.979,                 Time Elapsed: 444.9 s\n",
      "@ Iter:32400,                 Training error: 1.871,                 Validation error: 1.912,                 Time Elapsed: 446.3 s\n",
      "@ Iter:32500,                 Training error: 1.788,                 Validation error: 1.798,                 Time Elapsed: 447.7 s\n",
      "@ Iter:32600,                 Training error: 1.834,                 Validation error: 1.823,                 Time Elapsed: 449.1 s\n",
      "@ Iter:32700,                 Training error: 1.8,                 Validation error: 1.831,                 Time Elapsed: 450.4 s\n",
      "@ Iter:32800,                 Training error: 1.705,                 Validation error: 1.846,                 Time Elapsed: 451.8 s\n",
      "@ Iter:32900,                 Training error: 1.729,                 Validation error: 1.807,                 Time Elapsed: 453.1 s\n",
      "@ Iter:33000,                 Training error: 1.751,                 Validation error: 1.778,                 Time Elapsed: 454.4 s\n",
      "@ Iter:33100,                 Training error: 1.797,                 Validation error: 1.788,                 Time Elapsed: 455.8 s\n",
      "@ Iter:33200,                 Training error: 1.726,                 Validation error: 1.71,                 Time Elapsed: 457.2 s\n",
      "@ Iter:33300,                 Training error: 1.731,                 Validation error: 1.699,                 Time Elapsed: 458.5 s\n",
      "@ Iter:33400,                 Training error: 1.667,                 Validation error: 1.681,                 Time Elapsed: 459.8 s\n",
      "@ Iter:33500,                 Training error: 1.617,                 Validation error: 1.626,                 Time Elapsed: 461.2 s\n",
      "@ Iter:33600,                 Training error: 1.665,                 Validation error: 1.644,                 Time Elapsed: 462.5 s\n",
      "@ Iter:33700,                 Training error: 1.614,                 Validation error: 1.616,                 Time Elapsed: 463.9 s\n",
      "@ Iter:33800,                 Training error: 1.674,                 Validation error: 1.616,                 Time Elapsed: 465.3 s\n",
      "@ Iter:33900,                 Training error: 1.625,                 Validation error: 1.591,                 Time Elapsed: 466.7 s\n",
      "@ Iter:34000,                 Training error: 1.52,                 Validation error: 1.584,                 Time Elapsed: 468.1 s\n",
      "@ Iter:34100,                 Training error: 1.612,                 Validation error: 1.568,                 Time Elapsed: 469.4 s\n",
      "@ Iter:34200,                 Training error: 1.61,                 Validation error: 1.514,                 Time Elapsed: 470.8 s\n",
      "@ Iter:34300,                 Training error: 1.518,                 Validation error: 1.496,                 Time Elapsed: 472.2 s\n",
      "@ Iter:34400,                 Training error: 1.45,                 Validation error: 1.531,                 Time Elapsed: 473.9 s\n",
      "@ Iter:34500,                 Training error: 1.481,                 Validation error: 1.546,                 Time Elapsed: 475.5 s\n",
      "@ Iter:34600,                 Training error: 1.529,                 Validation error: 1.526,                 Time Elapsed: 477.0 s\n",
      "@ Iter:34700,                 Training error: 1.531,                 Validation error: 1.486,                 Time Elapsed: 478.6 s\n",
      "@ Iter:34800,                 Training error: 1.528,                 Validation error: 1.51,                 Time Elapsed: 480.1 s\n",
      "@ Iter:34900,                 Training error: 1.473,                 Validation error: 1.481,                 Time Elapsed: 481.5 s\n",
      "@ Iter:35000,                 Training error: 1.458,                 Validation error: 1.453,                 Time Elapsed: 482.9 s\n",
      "@ Iter:35100,                 Training error: 1.418,                 Validation error: 1.466,                 Time Elapsed: 484.2 s\n",
      "@ Iter:35200,                 Training error: 1.494,                 Validation error: 1.471,                 Time Elapsed: 485.6 s\n",
      "@ Iter:35300,                 Training error: 1.443,                 Validation error: 1.452,                 Time Elapsed: 487.1 s\n",
      "@ Iter:35400,                 Training error: 1.495,                 Validation error: 1.467,                 Time Elapsed: 488.8 s\n",
      "@ Iter:35500,                 Training error: 1.434,                 Validation error: 1.441,                 Time Elapsed: 490.3 s\n",
      "@ Iter:35600,                 Training error: 1.403,                 Validation error: 1.431,                 Time Elapsed: 492.0 s\n",
      "@ Iter:35700,                 Training error: 1.428,                 Validation error: 1.412,                 Time Elapsed: 493.5 s\n",
      "@ Iter:35800,                 Training error: 1.462,                 Validation error: 1.422,                 Time Elapsed: 495.1 s\n",
      "@ Iter:35900,                 Training error: 1.408,                 Validation error: 1.415,                 Time Elapsed: 496.6 s\n",
      "@ Iter:36000,                 Training error: 1.432,                 Validation error: 1.418,                 Time Elapsed: 498.0 s\n",
      "@ Iter:36100,                 Training error: 1.413,                 Validation error: 1.408,                 Time Elapsed: 499.5 s\n",
      "@ Iter:36200,                 Training error: 1.413,                 Validation error: 1.39,                 Time Elapsed: 501.0 s\n"
     ]
    },
    {
     "name": "stdout",
     "output_type": "stream",
     "text": [
      "@ Iter:36300,                 Training error: 1.389,                 Validation error: 1.386,                 Time Elapsed: 502.4 s\n",
      "@ Iter:36400,                 Training error: 1.35,                 Validation error: 1.423,                 Time Elapsed: 503.8 s\n",
      "@ Iter:36500,                 Training error: 1.442,                 Validation error: 1.408,                 Time Elapsed: 505.2 s\n",
      "@ Iter:36600,                 Training error: 1.406,                 Validation error: 1.39,                 Time Elapsed: 506.5 s\n",
      "@ Iter:36700,                 Training error: 1.36,                 Validation error: 1.412,                 Time Elapsed: 507.9 s\n",
      "@ Iter:36800,                 Training error: 1.368,                 Validation error: 1.41,                 Time Elapsed: 509.3 s\n",
      "@ Iter:36900,                 Training error: 1.331,                 Validation error: 1.398,                 Time Elapsed: 510.6 s\n",
      "@ Iter:37000,                 Training error: 1.355,                 Validation error: 1.362,                 Time Elapsed: 511.9 s\n",
      "@ Iter:37100,                 Training error: 1.346,                 Validation error: 1.39,                 Time Elapsed: 513.3 s\n",
      "@ Iter:37200,                 Training error: 1.447,                 Validation error: 1.409,                 Time Elapsed: 514.6 s\n",
      "@ Iter:37300,                 Training error: 1.38,                 Validation error: 1.382,                 Time Elapsed: 516.0 s\n",
      "@ Iter:37400,                 Training error: 1.37,                 Validation error: 1.369,                 Time Elapsed: 517.4 s\n",
      "@ Iter:37500,                 Training error: 1.36,                 Validation error: 1.363,                 Time Elapsed: 518.7 s\n",
      "@ Iter:37600,                 Training error: 1.404,                 Validation error: 1.354,                 Time Elapsed: 520.1 s\n",
      "@ Iter:37700,                 Training error: 1.331,                 Validation error: 1.369,                 Time Elapsed: 521.5 s\n",
      "@ Iter:37800,                 Training error: 1.388,                 Validation error: 1.387,                 Time Elapsed: 522.9 s\n",
      "@ Iter:37900,                 Training error: 1.383,                 Validation error: 1.357,                 Time Elapsed: 524.2 s\n",
      "@ Iter:38000,                 Training error: 1.405,                 Validation error: 1.39,                 Time Elapsed: 525.6 s\n",
      "@ Iter:38100,                 Training error: 1.354,                 Validation error: 1.336,                 Time Elapsed: 527.0 s\n",
      "@ Iter:38200,                 Training error: 1.354,                 Validation error: 1.344,                 Time Elapsed: 528.4 s\n",
      "@ Iter:38300,                 Training error: 1.368,                 Validation error: 1.351,                 Time Elapsed: 529.8 s\n",
      "@ Iter:38400,                 Training error: 1.376,                 Validation error: 1.366,                 Time Elapsed: 531.2 s\n",
      "@ Iter:38500,                 Training error: 1.372,                 Validation error: 1.353,                 Time Elapsed: 532.6 s\n",
      "@ Iter:38600,                 Training error: 1.329,                 Validation error: 1.364,                 Time Elapsed: 534.0 s\n",
      "@ Iter:38700,                 Training error: 1.383,                 Validation error: 1.385,                 Time Elapsed: 535.4 s\n",
      "@ Iter:38800,                 Training error: 1.332,                 Validation error: 1.377,                 Time Elapsed: 536.8 s\n",
      "@ Iter:38900,                 Training error: 1.364,                 Validation error: 1.333,                 Time Elapsed: 538.1 s\n",
      "@ Iter:39000,                 Training error: 1.342,                 Validation error: 1.346,                 Time Elapsed: 539.5 s\n",
      "@ Iter:39100,                 Training error: 1.327,                 Validation error: 1.354,                 Time Elapsed: 540.9 s\n",
      "@ Iter:39200,                 Training error: 1.341,                 Validation error: 1.354,                 Time Elapsed: 542.2 s\n",
      "@ Iter:39300,                 Training error: 1.365,                 Validation error: 1.359,                 Time Elapsed: 543.7 s\n",
      "@ Iter:39400,                 Training error: 1.35,                 Validation error: 1.362,                 Time Elapsed: 545.1 s\n",
      "@ Iter:39500,                 Training error: 1.348,                 Validation error: 1.329,                 Time Elapsed: 546.5 s\n",
      "@ Iter:39600,                 Training error: 1.336,                 Validation error: 1.352,                 Time Elapsed: 547.9 s\n",
      "@ Iter:39700,                 Training error: 1.336,                 Validation error: 1.363,                 Time Elapsed: 549.3 s\n",
      "@ Iter:39800,                 Training error: 1.348,                 Validation error: 1.352,                 Time Elapsed: 550.6 s\n",
      "@ Iter:39900,                 Training error: 1.316,                 Validation error: 1.368,                 Time Elapsed: 552.0 s\n",
      "@ Iter:40000,                 Training error: 1.357,                 Validation error: 1.357,                 Time Elapsed: 553.5 s\n",
      "@ Iter:40100,                 Training error: 1.384,                 Validation error: 1.371,                 Time Elapsed: 555.0 s\n",
      "@ Iter:40200,                 Training error: 1.4,                 Validation error: 1.346,                 Time Elapsed: 556.6 s\n",
      "@ Iter:40300,                 Training error: 1.373,                 Validation error: 1.343,                 Time Elapsed: 558.2 s\n",
      "@ Iter:40400,                 Training error: 1.333,                 Validation error: 1.356,                 Time Elapsed: 559.6 s\n",
      "@ Iter:40500,                 Training error: 1.332,                 Validation error: 1.375,                 Time Elapsed: 561.0 s\n",
      "@ Iter:40600,                 Training error: 1.335,                 Validation error: 1.353,                 Time Elapsed: 562.5 s\n",
      "@ Iter:40700,                 Training error: 1.376,                 Validation error: 1.364,                 Time Elapsed: 564.1 s\n",
      "@ Iter:40800,                 Training error: 1.395,                 Validation error: 1.34,                 Time Elapsed: 565.5 s\n",
      "@ Iter:40900,                 Training error: 1.364,                 Validation error: 1.342,                 Time Elapsed: 566.9 s\n",
      "@ Iter:41000,                 Training error: 1.341,                 Validation error: 1.345,                 Time Elapsed: 568.3 s\n",
      "@ Iter:41100,                 Training error: 1.362,                 Validation error: 1.349,                 Time Elapsed: 570.0 s\n",
      "@ Iter:41200,                 Training error: 1.34,                 Validation error: 1.332,                 Time Elapsed: 571.5 s\n",
      "@ Iter:41300,                 Training error: 1.364,                 Validation error: 1.348,                 Time Elapsed: 573.0 s\n",
      "@ Iter:41400,                 Training error: 1.341,                 Validation error: 1.339,                 Time Elapsed: 574.3 s\n",
      "@ Iter:41500,                 Training error: 1.33,                 Validation error: 1.356,                 Time Elapsed: 575.7 s\n",
      "@ Iter:41600,                 Training error: 1.373,                 Validation error: 1.357,                 Time Elapsed: 577.1 s\n",
      "@ Iter:41700,                 Training error: 1.312,                 Validation error: 1.337,                 Time Elapsed: 578.4 s\n",
      "@ Iter:41800,                 Training error: 1.344,                 Validation error: 1.347,                 Time Elapsed: 579.8 s\n",
      "@ Iter:41900,                 Training error: 1.343,                 Validation error: 1.346,                 Time Elapsed: 581.1 s\n",
      "@ Iter:42000,                 Training error: 1.348,                 Validation error: 1.36,                 Time Elapsed: 582.5 s\n",
      "@ Iter:42100,                 Training error: 1.33,                 Validation error: 1.366,                 Time Elapsed: 583.9 s\n",
      "@ Iter:42200,                 Training error: 1.337,                 Validation error: 1.35,                 Time Elapsed: 585.3 s\n",
      "@ Iter:42300,                 Training error: 1.342,                 Validation error: 1.38,                 Time Elapsed: 586.7 s\n",
      "@ Iter:42400,                 Training error: 1.412,                 Validation error: 1.342,                 Time Elapsed: 588.0 s\n",
      "@ Iter:42500,                 Training error: 1.348,                 Validation error: 1.343,                 Time Elapsed: 589.5 s\n"
     ]
    },
    {
     "name": "stdout",
     "output_type": "stream",
     "text": [
      "@ Iter:42600,                 Training error: 1.349,                 Validation error: 1.352,                 Time Elapsed: 590.8 s\n",
      "@ Iter:42700,                 Training error: 1.317,                 Validation error: 1.355,                 Time Elapsed: 592.2 s\n",
      "@ Iter:42800,                 Training error: 1.369,                 Validation error: 1.361,                 Time Elapsed: 593.6 s\n",
      "@ Iter:42900,                 Training error: 1.358,                 Validation error: 1.346,                 Time Elapsed: 594.9 s\n",
      "@ Iter:43000,                 Training error: 1.364,                 Validation error: 1.357,                 Time Elapsed: 596.3 s\n",
      "@ Iter:43100,                 Training error: 1.363,                 Validation error: 1.353,                 Time Elapsed: 597.7 s\n",
      "@ Iter:43200,                 Training error: 1.363,                 Validation error: 1.374,                 Time Elapsed: 599.0 s\n",
      "@ Iter:43300,                 Training error: 1.398,                 Validation error: 1.363,                 Time Elapsed: 600.4 s\n",
      "@ Iter:43400,                 Training error: 1.392,                 Validation error: 1.37,                 Time Elapsed: 601.8 s\n",
      "@ Iter:43500,                 Training error: 1.361,                 Validation error: 1.359,                 Time Elapsed: 603.2 s\n",
      "@ Iter:43600,                 Training error: 1.353,                 Validation error: 1.342,                 Time Elapsed: 604.6 s\n",
      "@ Iter:43700,                 Training error: 1.333,                 Validation error: 1.349,                 Time Elapsed: 606.1 s\n",
      "@ Iter:43800,                 Training error: 1.364,                 Validation error: 1.352,                 Time Elapsed: 607.5 s\n",
      "@ Iter:43900,                 Training error: 1.346,                 Validation error: 1.342,                 Time Elapsed: 608.9 s\n",
      "@ Iter:44000,                 Training error: 1.349,                 Validation error: 1.341,                 Time Elapsed: 610.2 s\n",
      "@ Iter:44100,                 Training error: 1.318,                 Validation error: 1.355,                 Time Elapsed: 611.6 s\n",
      "@ Iter:44200,                 Training error: 1.366,                 Validation error: 1.35,                 Time Elapsed: 612.9 s\n",
      "@ Iter:44300,                 Training error: 1.293,                 Validation error: 1.348,                 Time Elapsed: 614.2 s\n",
      "@ Iter:44400,                 Training error: 1.359,                 Validation error: 1.354,                 Time Elapsed: 615.6 s\n",
      "@ Iter:44500,                 Training error: 1.363,                 Validation error: 1.335,                 Time Elapsed: 617.0 s\n",
      "@ Iter:44600,                 Training error: 1.347,                 Validation error: 1.365,                 Time Elapsed: 618.4 s\n",
      "@ Iter:44700,                 Training error: 1.372,                 Validation error: 1.348,                 Time Elapsed: 619.7 s\n",
      "@ Iter:44800,                 Training error: 1.354,                 Validation error: 1.349,                 Time Elapsed: 621.1 s\n",
      "@ Iter:44900,                 Training error: 1.359,                 Validation error: 1.353,                 Time Elapsed: 622.4 s\n",
      "@ Iter:45000,                 Training error: 1.387,                 Validation error: 1.354,                 Time Elapsed: 623.9 s\n",
      "@ Iter:45100,                 Training error: 1.34,                 Validation error: 1.356,                 Time Elapsed: 625.5 s\n",
      "@ Iter:45200,                 Training error: 1.396,                 Validation error: 1.344,                 Time Elapsed: 627.0 s\n",
      "@ Iter:45300,                 Training error: 1.355,                 Validation error: 1.341,                 Time Elapsed: 628.4 s\n",
      "@ Iter:45400,                 Training error: 1.324,                 Validation error: 1.336,                 Time Elapsed: 629.7 s\n",
      "@ Iter:45500,                 Training error: 1.348,                 Validation error: 1.372,                 Time Elapsed: 631.3 s\n",
      "@ Iter:45600,                 Training error: 1.374,                 Validation error: 1.363,                 Time Elapsed: 632.6 s\n",
      "@ Iter:45700,                 Training error: 1.377,                 Validation error: 1.341,                 Time Elapsed: 634.0 s\n",
      "@ Iter:45800,                 Training error: 1.322,                 Validation error: 1.334,                 Time Elapsed: 635.5 s\n",
      "@ Iter:45900,                 Training error: 1.351,                 Validation error: 1.33,                 Time Elapsed: 636.9 s\n",
      "@ Iter:46000,                 Training error: 1.285,                 Validation error: 1.358,                 Time Elapsed: 638.2 s\n",
      "@ Iter:46100,                 Training error: 1.329,                 Validation error: 1.352,                 Time Elapsed: 639.6 s\n",
      "@ Iter:46200,                 Training error: 1.333,                 Validation error: 1.35,                 Time Elapsed: 641.0 s\n",
      "@ Iter:46300,                 Training error: 1.366,                 Validation error: 1.339,                 Time Elapsed: 642.3 s\n",
      "@ Iter:46400,                 Training error: 1.369,                 Validation error: 1.321,                 Time Elapsed: 643.7 s\n",
      "@ Iter:46500,                 Training error: 1.366,                 Validation error: 1.334,                 Time Elapsed: 645.1 s\n",
      "@ Iter:46600,                 Training error: 1.335,                 Validation error: 1.333,                 Time Elapsed: 646.4 s\n",
      "@ Iter:46700,                 Training error: 1.393,                 Validation error: 1.352,                 Time Elapsed: 647.8 s\n",
      "@ Iter:46800,                 Training error: 1.351,                 Validation error: 1.361,                 Time Elapsed: 649.2 s\n",
      "@ Iter:46900,                 Training error: 1.39,                 Validation error: 1.349,                 Time Elapsed: 650.5 s\n",
      "@ Iter:47000,                 Training error: 1.329,                 Validation error: 1.343,                 Time Elapsed: 651.8 s\n",
      "@ Iter:47100,                 Training error: 1.32,                 Validation error: 1.366,                 Time Elapsed: 653.2 s\n",
      "@ Iter:47200,                 Training error: 1.364,                 Validation error: 1.354,                 Time Elapsed: 654.5 s\n",
      "@ Iter:47300,                 Training error: 1.351,                 Validation error: 1.351,                 Time Elapsed: 655.9 s\n",
      "@ Iter:47400,                 Training error: 1.295,                 Validation error: 1.322,                 Time Elapsed: 657.2 s\n",
      "@ Iter:47500,                 Training error: 1.318,                 Validation error: 1.336,                 Time Elapsed: 658.6 s\n",
      "@ Iter:47600,                 Training error: 1.365,                 Validation error: 1.338,                 Time Elapsed: 659.9 s\n",
      "@ Iter:47700,                 Training error: 1.328,                 Validation error: 1.327,                 Time Elapsed: 661.3 s\n",
      "@ Iter:47800,                 Training error: 1.417,                 Validation error: 1.356,                 Time Elapsed: 662.6 s\n",
      "@ Iter:47900,                 Training error: 1.331,                 Validation error: 1.345,                 Time Elapsed: 664.0 s\n",
      "@ Iter:48000,                 Training error: 1.325,                 Validation error: 1.323,                 Time Elapsed: 665.4 s\n",
      "@ Iter:48100,                 Training error: 1.345,                 Validation error: 1.336,                 Time Elapsed: 666.7 s\n",
      "@ Iter:48200,                 Training error: 1.324,                 Validation error: 1.361,                 Time Elapsed: 668.1 s\n",
      "@ Iter:48300,                 Training error: 1.345,                 Validation error: 1.33,                 Time Elapsed: 669.4 s\n",
      "@ Iter:48400,                 Training error: 1.31,                 Validation error: 1.349,                 Time Elapsed: 670.8 s\n",
      "@ Iter:48500,                 Training error: 1.352,                 Validation error: 1.35,                 Time Elapsed: 672.1 s\n",
      "@ Iter:48600,                 Training error: 1.377,                 Validation error: 1.352,                 Time Elapsed: 673.5 s\n",
      "@ Iter:48700,                 Training error: 1.382,                 Validation error: 1.35,                 Time Elapsed: 674.9 s\n",
      "@ Iter:48800,                 Training error: 1.324,                 Validation error: 1.357,                 Time Elapsed: 676.3 s\n"
     ]
    },
    {
     "name": "stdout",
     "output_type": "stream",
     "text": [
      "@ Iter:48900,                 Training error: 1.323,                 Validation error: 1.333,                 Time Elapsed: 677.7 s\n",
      "@ Iter:49000,                 Training error: 1.356,                 Validation error: 1.332,                 Time Elapsed: 679.2 s\n",
      "@ Iter:49100,                 Training error: 1.298,                 Validation error: 1.33,                 Time Elapsed: 681.0 s\n",
      "@ Iter:49200,                 Training error: 1.318,                 Validation error: 1.345,                 Time Elapsed: 682.4 s\n",
      "@ Iter:49300,                 Training error: 1.358,                 Validation error: 1.347,                 Time Elapsed: 683.8 s\n",
      "@ Iter:49400,                 Training error: 1.326,                 Validation error: 1.324,                 Time Elapsed: 685.1 s\n",
      "@ Iter:49500,                 Training error: 1.354,                 Validation error: 1.356,                 Time Elapsed: 686.4 s\n",
      "@ Iter:49600,                 Training error: 1.36,                 Validation error: 1.363,                 Time Elapsed: 687.9 s\n",
      "@ Iter:49700,                 Training error: 1.323,                 Validation error: 1.343,                 Time Elapsed: 689.3 s\n",
      "@ Iter:49800,                 Training error: 1.331,                 Validation error: 1.337,                 Time Elapsed: 690.7 s\n",
      "@ Iter:49900,                 Training error: 1.364,                 Validation error: 1.35,                 Time Elapsed: 692.3 s\n"
     ]
    }
   ],
   "source": [
    "# LEARNING MARGINAL DISTRIBUTION\n",
    "n_comps = 100\n",
    "logits = tf.Variable(tf.zeros((n_dims, n_comps)),name='log_mix_props')\n",
    "mus = tf.Variable(tf.transpose(data_trn[np.random.choice(data_trn.shape[0],n_comps,replace=False),:]),name='mus')\n",
    "log_sigs = tf.Variable(-tf.ones((n_dims,n_comps)), name='scale')\n",
    "train_vars=[logits, mus, log_sigs]\n",
    "\n",
    "# Defining the training step\n",
    "@tf.function\n",
    "def train_step(x_batch):\n",
    "    with tf.GradientTape() as tape:\n",
    "        kde= tfd.MixtureSameFamily(mixture_distribution=tfd.Categorical(logits=logits),\n",
    "                                   components_distribution=tfd.Normal(loc=mus, scale=tf.exp(log_sigs)))\n",
    "        neg_gmm_ll = -tf.reduce_mean(kde.log_prob(x_batch))\n",
    "    grads = tape.gradient(neg_gmm_ll, train_vars)\n",
    "\n",
    "    if not tf.math.reduce_any(tf.math.is_nan(grads)) or  tf.math.reduce_any(tf.math.is_inf(grads)):\n",
    "        optimizer.apply_gradients(zip(grads, train_vars)) #updating the gmc parameters\n",
    "    return neg_gmm_ll\n",
    "\n",
    "# Defining the validation step\n",
    "@tf.function\n",
    "def valid_step(x_batch):\n",
    "    kde= tfd.MixtureSameFamily(mixture_distribution=tfd.Categorical(logits=logits),\n",
    "                           components_distribution=tfd.Normal(loc=mus,\n",
    "                                                              scale=tf.exp(log_sigs)))\n",
    "    neg_gmm_ll = -tf.reduce_mean(kde.log_prob(x_batch))\n",
    "    return neg_gmm_ll\n",
    "\n",
    "optimizer = tf.optimizers.Adam(learning_rate=1E-3)\n",
    "max_iters,print_interval,batch_size_trn,batch_size_vld=50000,100,200,500\n",
    "\n",
    "neg_ll_trn = np.empty(max_iters)  \n",
    "neg_ll_trn[:] = np.NaN\n",
    "neg_ll_vld = np.empty(max_iters)  \n",
    "neg_ll_vld[:] = np.NaN\n",
    "patience,last_vld_err=0,float('inf')\n",
    "\n",
    "ts = time.time() # start time\n",
    "# Optimization iterations\n",
    "for itr in np.arange(max_iters):\n",
    "    if patience>5: break # early termination \n",
    "    np.random.seed(itr)\n",
    "    # Executing a training step\n",
    "    samps_idx = np.random.choice(data_trn.shape[0],batch_size_trn,replace=False)\n",
    "    x_batch_trn = tf.gather(data_trn,samps_idx)\n",
    "    neg_ll_trn[itr] = train_step(x_batch_trn).numpy()\n",
    "    # Printing results every 100 iteration    \n",
    "    if tf.equal(itr%print_interval,0) or tf.equal(itr,0):\n",
    "        if data_vld is not None: \n",
    "            s = min(batch_size_vld,data_vld.shape[0])\n",
    "            samps_idx = np.random.choice(data_vld.shape[0],s,replace=False)\n",
    "            x_batch_vld = tf.gather(data_vld,samps_idx)\n",
    "            neg_ll_vld[itr] = valid_step(x_batch_vld).numpy()\n",
    "            if neg_ll_vld[itr]>last_vld_err: \n",
    "                patience+=1\n",
    "            else:\n",
    "                patience=0\n",
    "            last_vld_err=neg_ll_vld[itr]\n",
    "\n",
    "        time_elapsed = np.round(time.time()-ts,1)\n",
    "        print(f'@ Iter:{itr}, \\\n",
    "                Training error: {np.round(neg_ll_trn[itr],3)}, \\\n",
    "                Validation error: {np.round(neg_ll_vld[itr],3)}, \\\n",
    "                Time Elapsed: {time_elapsed} s')    \n",
    "\n",
    "# marginal gmms in transformed sapce\n",
    "marginals_gmm = tfd.MixtureSameFamily(mixture_distribution=tfd.Categorical(logits=logits),\n",
    "                           components_distribution=tfd.Normal(loc=mus,\n",
    "                                                              scale=tf.exp(log_sigs)))\n",
    "# marginals in native space\n",
    "marginals_native=tfd.TransformedDistribution(distribution=marginals_gmm,bijector=pw_trans)\n"
   ]
  },
  {
   "cell_type": "code",
   "execution_count": 52,
   "metadata": {},
   "outputs": [
    {
     "data": {
      "text/plain": [
       "[<matplotlib.lines.Line2D at 0x21362ad4a60>]"
      ]
     },
     "execution_count": 52,
     "metadata": {},
     "output_type": "execute_result"
    },
    {
     "data": {
      "image/png": "[encoded data removed]",
      "text/plain": [
       "<Figure size 640x480 with 1 Axes>"
      ]
     },
     "metadata": {},
     "output_type": "display_data"
    }
   ],
   "source": [
    "plt.semilogy(neg_ll_trn)\n",
    "plt.semilogy(neg_ll_vld,'rs')"
   ]
  },
  {
   "cell_type": "code",
   "execution_count": 53,
   "metadata": {},
   "outputs": [
    {
     "data": {
      "text/plain": [
       "['saved_models/marginal_params_MINIBOONE']"
      ]
     },
     "execution_count": 53,
     "metadata": {},
     "output_type": "execute_result"
    }
   ],
   "source": [
    "marginal_params={'marg_gmm_params':(logits.numpy(), mus.numpy(), log_sigs.numpy()),\n",
    "                 'pw_trans_params': pw_trans_params,\n",
    "                 'sorted_native_samps': data_trn_native_samps_sorted.numpy()}\n",
    "jbl.dump(marginal_params,'saved_models/marginal_params_MINIBOONE')"
   ]
  },
  {
   "cell_type": "code",
   "execution_count": null,
   "metadata": {},
   "outputs": [],
   "source": [
    "vv=[]\n",
    "for i in range(100):\n",
    "    idx=np.random.choice(data_vld_native.shape[0],100)\n",
    "    dd = data_vld_native[idx,:]\n",
    "    marg_log_prob=tf.reduce_mean(tf.reduce_sum(marignals_native.log_prob(dd),axis=1))\n",
    "    vv.append(marg_log_prob.numpy())\n",
    "    \n",
    "[np.mean(vv), np.median(vv)]"
   ]
  },
  {
   "cell_type": "code",
   "execution_count": null,
   "metadata": {},
   "outputs": [],
   "source": [
    "data_trn_native_sorted=tf.sort(data_trn_native,axis=0)\n",
    "n_trn=data_trn_native.shape[0]\n",
    "emp_cdfs=tf.constant([i/n_trn for i in range(n_trn)])\n",
    "req_cdfs=tf.constant([i/999 for i in range(1000)])\n",
    "sort_idx=tf.searchsorted(emp_cdfs,req_cdfs,side='right')-1\n",
    "data_trn_native_samps_sorted = tf.gather(data_trn_native_sorted,sort_idx,axis=0).numpy()"
   ]
  },
  {
   "cell_type": "code",
   "execution_count": null,
   "metadata": {},
   "outputs": [],
   "source": [
    "marginal_params=jbl.load('saved_models/marginal_params_POWER')\n",
    "marginal_params['sorted_native_smaps']=data_trn_native_samps_sorted"
   ]
  },
  {
   "cell_type": "code",
   "execution_count": null,
   "metadata": {},
   "outputs": [],
   "source": [
    "marginal_params.keys()"
   ]
  },
  {
   "cell_type": "code",
   "execution_count": null,
   "metadata": {},
   "outputs": [],
   "source": [
    "print(n_trn)\n",
    "sort_idx\n",
    "tf.searchsorted(emp_cdfs,tf.constant([1.]))"
   ]
  },
  {
   "cell_type": "code",
   "execution_count": null,
   "metadata": {},
   "outputs": [],
   "source": [
    "n_tst=data_tst_native.shape[0]\n",
    "samps_margs=marignals_native.sample(n_tst).numpy()"
   ]
  },
  {
   "cell_type": "code",
   "execution_count": null,
   "metadata": {},
   "outputs": [],
   "source": [
    "idx=5\n",
    "out=plt.hist(data_tst_native[:,idx].reshape(-1,1),100);\n",
    "plt.hist(samps_margs[:,idx].reshape(-1,1),out[1],alpha=0.5);"
   ]
  },
  {
   "cell_type": "code",
   "execution_count": null,
   "metadata": {},
   "outputs": [],
   "source": [
    "ndims=8\n",
    "# instantiating copula flow object\n",
    "nvp_obj=RealNVPFlow(ndims,batch_norm=True, num_bijectors=5)\n",
    "# learn the marginals\n",
    "\n",
    "nll_nvp=nvp_obj.fit_dist(data_trn_native,\n",
    "            data_valid=data_vld_native,\n",
    "            optimizer = tf.optimizers.Adam(learning_rate=1E-3), \n",
    "            max_iters = 10000, \n",
    "            batch_size = 100, \n",
    "            print_interval=100)"
   ]
  },
  {
   "cell_type": "code",
   "execution_count": null,
   "metadata": {},
   "outputs": [],
   "source": [
    "plt.plot(nll_nvp[0])\n",
    "plt.plot(nll_nvp[1],'rs')"
   ]
  },
  {
   "cell_type": "code",
   "execution_count": null,
   "metadata": {},
   "outputs": [],
   "source": [
    "n_tst=data_tst_native.shape[0]\n",
    "samps_rnvp=nvp_obj.flow_rnvp.sample(n_tst).numpy()"
   ]
  },
  {
   "cell_type": "code",
   "execution_count": null,
   "metadata": {},
   "outputs": [],
   "source": [
    "idx=0\n",
    "samps_cnvp_base_flow=cpf_obj.base_flow.sample(n_tst).numpy()\n",
    "out=plt.hist(samps_cnvp_base_flow[:,idx].reshape(-1,1),100);"
   ]
  },
  {
   "cell_type": "code",
   "execution_count": null,
   "metadata": {},
   "outputs": [],
   "source": [
    "from custom_bijectors import rankbased_CDF\n",
    "samps=cpf_obj.base_flow.sample(1000)\n",
    "bijec_kde=rankbased_CDF(samps)\n",
    "# combining the base bijection with marignal bijections (KDE and GMM)    \n",
    "copula_flow = tfd.TransformedDistribution(distribution=cpf_obj.base_flow.distribution,\n",
    "                                         bijector=tfb.Chain([cpf_obj.bijector_final, bijec_kde, cpf_obj.base_flow.bijector]))\n",
    "\n"
   ]
  },
  {
   "cell_type": "code",
   "execution_count": null,
   "metadata": {},
   "outputs": [],
   "source": [
    "idx=0\n",
    "sc.stats.cramervonmises_2samp(samps_cnvp[:,idx], samps_rnvp[:,idx])"
   ]
  },
  {
   "cell_type": "code",
   "execution_count": null,
   "metadata": {},
   "outputs": [],
   "source": [
    "sc.__version__"
   ]
  },
  {
   "cell_type": "code",
   "execution_count": null,
   "metadata": {},
   "outputs": [],
   "source": [
    "uu1=nvp_obj.flow_rnvp.sample(10000).numpy()\n",
    "uu2=copula_flow.sample(10000).numpy()\n",
    "idx=1\n",
    "plt.figure(figsize=(10,4))\n",
    "plt.subplot(131)\n",
    "plt.hist(uu1[:,idx].reshape(-1,1),50);\n",
    "plt.subplot(132)\n",
    "plt.hist(uu2[:,idx].reshape(-1,1),50);\n",
    "plt.subplot(133)\n",
    "plt.hist(u_vld[:10000,idx].reshape(-1,1),50);"
   ]
  },
  {
   "cell_type": "code",
   "execution_count": null,
   "metadata": {},
   "outputs": [],
   "source": [
    "u_vld_subset=u_vld[1000:1004,:]*0.001\n",
    "ll1=nvp_obj.flow_rnvp.log_prob(u_vld_subset)\n",
    "ll2=copula_flow.log_prob(u_vld_subset)\n",
    "plt.plot(ll1)\n",
    "plt.plot(ll2)"
   ]
  },
  {
   "cell_type": "code",
   "execution_count": null,
   "metadata": {},
   "outputs": [],
   "source": [
    "final_flow_nvp=tfd.TransformedDistribution(\n",
    "    distribution=nvp_obj.flow_rnvp.distribution,\n",
    "    bijector=tfb.Chain([pw_trans,nvp_obj.flow_rnvp.bijector]))\n",
    "data_tst_sample=data_tst_native[:1000,:]\n",
    "ll_nvp=final_flow_nvp.log_prob(data_tst_sample)\n",
    "np.median(ll_nvp)"
   ]
  },
  {
   "cell_type": "code",
   "execution_count": null,
   "metadata": {},
   "outputs": [],
   "source": [
    "cpf_obj.gen_copula_flow()"
   ]
  },
  {
   "cell_type": "code",
   "execution_count": null,
   "metadata": {},
   "outputs": [],
   "source": [
    "# uu=np.random.rand(100,8).astype('float32')\n",
    "# ld1=cpf_obj.bijec_rank.inverse_log_det_jacobian(uu)\n",
    "# ld2=cpf_obj.bijec_rank._inverse_log_det_jacobian_exp(uu)\n",
    "# plt.plot(ld1,ld2,'k.')\n",
    "ss=cpf_obj.base_flow.sample(10000).numpy()\n",
    "uu1=cpf_obj.bijec_rank.forward(ss)\n",
    "uu2=cpf_obj.bijec_rank.kde.cdf(ss)\n",
    "uu2.shape"
   ]
  },
  {
   "cell_type": "code",
   "execution_count": null,
   "metadata": {},
   "outputs": [],
   "source": [
    "idx=7\n",
    "plt.plot(ss[:,idx],uu1[:,idx],'k.')\n",
    "plt.plot(ss[:,idx],uu2[:,idx],'r.')"
   ]
  },
  {
   "cell_type": "code",
   "execution_count": null,
   "metadata": {},
   "outputs": [],
   "source": [
    "plt.hist(ss[:,idx].reshape(-1,1),50);"
   ]
  },
  {
   "cell_type": "code",
   "execution_count": null,
   "metadata": {},
   "outputs": [],
   "source": [
    "cpf_obj.bijec_rank._inverse_log_det_jacobian_exp(uu)"
   ]
  },
  {
   "cell_type": "code",
   "execution_count": null,
   "metadata": {},
   "outputs": [],
   "source": [
    "ss=kde.sample(5)\n",
    "lp=kde.log_prob(ss)\n",
    "tf.reduce_sum(lp,axis=1)"
   ]
  },
  {
   "cell_type": "code",
   "execution_count": null,
   "metadata": {},
   "outputs": [],
   "source": [
    "tf.math.log(uu[1:,:]-uu[:-1,:]) - tf.math.log(ss[1:,:]-ss[:-1,:])"
   ]
  },
  {
   "cell_type": "code",
   "execution_count": null,
   "metadata": {},
   "outputs": [],
   "source": [
    "plt.plot(nll_cpf[0],'k.')\n",
    "plt.plot(nll_cpf[1],'r.')"
   ]
  },
  {
   "cell_type": "code",
   "execution_count": null,
   "metadata": {},
   "outputs": [],
   "source": [
    "cpf_obj.gen_copula_flow(num_samps=100000)\n"
   ]
  },
  {
   "cell_type": "code",
   "execution_count": null,
   "metadata": {},
   "outputs": [],
   "source": [
    "uu=cpf_obj.copula_flow.sample(10000).numpy()\n",
    "idx=7\n",
    "plt.subplot(121)\n",
    "plt.hist(uu[:,idx].reshape(-1,1),50);\n",
    "plt.subplot(122)\n",
    "plt.hist(np.random.rand(10000).reshape(-1,1),50);\n"
   ]
  },
  {
   "cell_type": "code",
   "execution_count": null,
   "metadata": {},
   "outputs": [],
   "source": [
    "ndims=8\n",
    "# instantiating copula flow object\n",
    "nvpu_obj=RealNVPFlowUnit(ndims,num_bijectors=5)\n",
    "# learn the marginals\n",
    "nvpu_obj.learn_marginals(data_trn,method='gmm')"
   ]
  },
  {
   "cell_type": "code",
   "execution_count": null,
   "metadata": {},
   "outputs": [],
   "source": [
    "nll_nvpu=nvpu_obj.fit_dist(data_trn,\n",
    "            data_valid=data_vld,\n",
    "            optimizer = tf.optimizers.Adam(learning_rate=1E-3), \n",
    "            max_iters = 2000, \n",
    "            batch_size = 100, \n",
    "            print_interval=100)"
   ]
  },
  {
   "cell_type": "code",
   "execution_count": null,
   "metadata": {},
   "outputs": [],
   "source": [
    "plt.plot(nll_nvpu[0])\n",
    "plt.plot(nll_nvpu[1],'rs')"
   ]
  },
  {
   "cell_type": "code",
   "execution_count": null,
   "metadata": {},
   "outputs": [],
   "source": [
    "from custom_bijectors import rankbased_CDF\n",
    "num_samps=100000\n",
    "samps=nvpu_obj.flow_rnvp.sample(num_samps)\n",
    "bijec_rank=rankbased_CDF(samps)\n",
    "        \n",
    "# comning the base bijection with kde bijectopm    \n",
    "bijec_composite = tfb.Chain([bijec_rank,nvpu_obj.flow_rnvp.bijector])\n",
    "copula_flow = tfd.TransformedDistribution(distribution=nvpu_obj.flow_rnvp.distribution,\n",
    "                                         bijector=bijec_composite)"
   ]
  },
  {
   "cell_type": "code",
   "execution_count": null,
   "metadata": {},
   "outputs": [],
   "source": [
    "uu1=nvpu_obj.flow_rnvp.sample(10000).numpy()\n",
    "uu2=copula_flow.sample(10000).numpy()"
   ]
  },
  {
   "cell_type": "code",
   "execution_count": null,
   "metadata": {},
   "outputs": [],
   "source": [
    "idx1,idx2=0,3\n",
    "plt.subplot(121)\n",
    "plt.plot(uu1[:,idx1],uu1[:,idx2],'k.')\n",
    "plt.subplot(122)\n",
    "plt.plot(uu2[:,idx1],uu2[:,idx2],'r.')"
   ]
  },
  {
   "cell_type": "code",
   "execution_count": null,
   "metadata": {},
   "outputs": [],
   "source": [
    "idx=0\n",
    "plt.figure(figsize=(10,4))\n",
    "plt.subplot(131)\n",
    "plt.hist(uu1[:,idx].reshape(-1,1),50);\n",
    "plt.subplot(132)\n",
    "plt.hist(uu2[:,idx].reshape(-1,1),50);\n",
    "plt.subplot(133)\n",
    "plt.hist(np.random.rand(10000).reshape(-1,1),50);"
   ]
  },
  {
   "cell_type": "code",
   "execution_count": null,
   "metadata": {},
   "outputs": [],
   "source": [
    "u_tst = nvpu_obj.marg_bijector.inverse(data_trn[:5,:])\n",
    "bijec_rank.inverse_log_det_jacobian(u_tst)"
   ]
  },
  {
   "cell_type": "code",
   "execution_count": null,
   "metadata": {},
   "outputs": [],
   "source": []
  },
  {
   "cell_type": "code",
   "execution_count": null,
   "metadata": {},
   "outputs": [],
   "source": [
    "from custom_bijectors import rankbased_CDF\n",
    "base_dist=tfd.Independent(tfd.Beta(concentration0=[2,2],concentration1=[2,2]),reinterpreted_batch_ndims=1)\n",
    "# base_dist=tfd.MultivariateNormalTriL(loc=[2.0,2.0],scale_tril=tf.eye(2))\n",
    "ubeta=base_dist.sample(10000).numpy()\n",
    "\n",
    "bijec_rank=rankbased_CDF(ubeta)\n",
    "ubeta.shape\n"
   ]
  },
  {
   "cell_type": "code",
   "execution_count": null,
   "metadata": {},
   "outputs": [],
   "source": [
    "ubeta=base_dist.sample(10000).numpy()\n",
    "uuu=bijec_rank.forward(ubeta).numpy()\n",
    "plt.hist(uuu,50);"
   ]
  },
  {
   "cell_type": "code",
   "execution_count": null,
   "metadata": {},
   "outputs": [],
   "source": [
    "trans_dist=tfd.TransformedDistribution(distribution=base_dist,bijector=bijec_rank)\n",
    "u_uniform=np.random.rand(100,2).astype('float32')\n",
    "plt.plot(base_dist.log_prob(u_uniform))\n",
    "plt.plot(trans_dist.log_prob(u_uniform))"
   ]
  },
  {
   "cell_type": "code",
   "execution_count": null,
   "metadata": {},
   "outputs": [],
   "source": [
    "tf.math.log(2.)"
   ]
  },
  {
   "cell_type": "code",
   "execution_count": null,
   "metadata": {},
   "outputs": [],
   "source": [
    "from custom_bijectors import rankbased_CDF\n",
    "base_dist=tfd.Independent(tfd.Beta(concentration0=[2.5,5],concentration1=[2.5,5]),reinterpreted_batch_ndims=1)\n",
    "samps_beta=base_dist.sample(10000).numpy()\n",
    "bijec_rank=rankbased_CDF(samps_beta)\n",
    "trans_dist=tfd.TransformedDistribution(distribution=base_dist,bijector=bijec_rank)\n",
    "\n",
    "u=[np.linspace(0.001,0.999,100).reshape(-1,1) for _ in range(2)]\n",
    "u=np.concatenate(u,axis=1)\n",
    "ll1=base_dist.log_prob(u)\n",
    "ll2=trans_dist.log_prob(u)\n",
    "plt.plot(ll1)\n",
    "plt.plot(ll2)\n"
   ]
  },
  {
   "cell_type": "code",
   "execution_count": null,
   "metadata": {},
   "outputs": [],
   "source": [
    "plt.plot(bijec_rank.x_arr[1,:],bijec_rank.u_arr[1,:],'k')\n",
    "plt.plot(bijec_rank.x_arr[1,:],tfd.Beta(concentration0=5,concentration1=5).cdf(bijec_rank.x_arr[1,:]))"
   ]
  },
  {
   "cell_type": "code",
   "execution_count": null,
   "metadata": {},
   "outputs": [],
   "source": [
    "u_tst = nvpu_obj.marg_bijector.inverse(data_tst[:10,:])\n",
    "# ll1_tst=nvpu_obj.flow_rnvp.log_prob(u_tst)\n",
    "ll2_tst=copula_flow.log_prob(u_tst)"
   ]
  },
  {
   "cell_type": "code",
   "execution_count": null,
   "metadata": {},
   "outputs": [],
   "source": [
    "plt.plot(ll1_tst)\n",
    "plt.plot(ll2_tst)"
   ]
  },
  {
   "cell_type": "code",
   "execution_count": null,
   "metadata": {},
   "outputs": [],
   "source": [
    "uu=nvpu_obj.flow_rnvp.sample(10000).numpy()\n",
    "idx=2\n",
    "plt.hist(uu[:,idx].reshape(-1,1),10);"
   ]
  },
  {
   "cell_type": "code",
   "execution_count": null,
   "metadata": {},
   "outputs": [],
   "source": [
    "cpf_obj.gen_copula_flow(phase='sampling')\n",
    "final_flow_cf=tfd.TransformedDistribution(\n",
    "    distribution=cpf_obj.copula_flow.distribution,\n",
    "    bijector=tfb.Chain([pw_trans,cpf_obj.marg_bijector,cpf_obj.copula_flow.bijector]))\n",
    "data_tst_sample=data_tst_native[:1000,:]\n",
    "ll_cf=final_flow_cf.log_prob(data_tst_sample)\n",
    "np.nanmedian(ll_cf)"
   ]
  },
  {
   "cell_type": "code",
   "execution_count": null,
   "metadata": {},
   "outputs": [],
   "source": [
    "plt.plot(ll_nvp[:100])\n",
    "plt.plot(ll_cf[:100])"
   ]
  },
  {
   "cell_type": "code",
   "execution_count": null,
   "metadata": {},
   "outputs": [],
   "source": []
  },
  {
   "cell_type": "code",
   "execution_count": null,
   "metadata": {},
   "outputs": [],
   "source": [
    "final_flow_cnvp=tfd.TransformedDistribution(\n",
    "    distribution=nvpu_obj.flow_rnvp.distribution,\n",
    "    bijector=tfb.Chain([pw_trans,nvpu_obj.marg_bijector,nvpu_obj.flow_rnvp.bijector]))\n",
    "data_tst_sample=data_tst_native[:10000,:]\n",
    "ll_cnvp=final_flow_cnvp.log_prob(data_tst_sample)\n",
    "np.nanmedian(ll_cnvp)"
   ]
  },
  {
   "cell_type": "code",
   "execution_count": null,
   "metadata": {},
   "outputs": [],
   "source": [
    "from custom_bijectors import KDE_transform\n",
    "samps=nvpu_obj.flow_rnvp.sample(1000)\n",
    "bijec_kde=KDE_transform(samps)\n",
    "# comning the base bijection with kde bijectopm    \n",
    "copula_flow = tfd.TransformedDistribution(distribution=nvpu_obj.flow_rnvp.distribution,\n",
    "                                         bijector=tfb.Chain([pw_trans,nvpu_obj.marg_bijector,bijec_kde,nvpu_obj.flow_rnvp.bijector]))\n",
    "# data_tst_sample=data_tst_native[:10000,:]\n",
    "# ll_cf=copula_flow.log_prob(data_tst_sample)\n",
    "# np.nanmedian(ll_cf)\n",
    "# ss1=nvpu_obj.flow_rnvp.sample(10000).numpy()\n",
    "# ss2=copula_flow.sample(10000).numpy()"
   ]
  },
  {
   "cell_type": "code",
   "execution_count": null,
   "metadata": {},
   "outputs": [],
   "source": [
    "data_tst_sample=data_trn_native[100:200,:]\n",
    "ll_cnvp=final_flow_cnvp.log_prob(data_tst_sample)\n",
    "ll_cf=copula_flow.log_prob(data_tst_sample)"
   ]
  },
  {
   "cell_type": "code",
   "execution_count": null,
   "metadata": {},
   "outputs": [],
   "source": [
    "plt.plot(ll_cnvp)\n",
    "plt.plot(ll_cf)"
   ]
  },
  {
   "cell_type": "code",
   "execution_count": null,
   "metadata": {},
   "outputs": [],
   "source": [
    "plt.hist((ll_cnvp-ll_nvp).numpy().reshape(-1,1),50);\n",
    "plt.xlim(-20,20)"
   ]
  },
  {
   "cell_type": "code",
   "execution_count": null,
   "metadata": {},
   "outputs": [],
   "source": [
    "plt.subplot(121)\n",
    "plt.hist((ll_cnvp-ll_nvp).numpy().reshape(-1,1),50);\n",
    "plt.subplot(122)\n",
    "plt.plot(ll_nvp[:100])\n",
    "plt.plot(ll_cnvp[:100])"
   ]
  },
  {
   "cell_type": "code",
   "execution_count": null,
   "metadata": {},
   "outputs": [],
   "source": [
    "s_nvp=final_flow_nvp.sample(10000).numpy()\n",
    "s_cnvp=final_flow_cnvp.sample(10000).numpy()"
   ]
  },
  {
   "cell_type": "code",
   "execution_count": null,
   "metadata": {},
   "outputs": [],
   "source": [
    "idx=7\n",
    "plt.figure(figsize=[10,5])\n",
    "plt.subplot(121)\n",
    "out=plt.hist(data_tst_native[:10000,idx].reshape(-1,1),50);\n",
    "plt.hist(s_nvp[:,idx].reshape(-1,1),out[1],alpha=0.5);\n",
    "plt.subplot(122)\n",
    "out=plt.hist(data_tst_native[:10000,idx].reshape(-1,1),50);\n",
    "plt.hist(s_cnvp[:,idx].reshape(-1,1),out[1],alpha=0.5);\n",
    "\n"
   ]
  },
  {
   "cell_type": "code",
   "execution_count": null,
   "metadata": {},
   "outputs": [],
   "source": [
    "ll_nvp=nvp_obj.flow_rnvp.log_prob(data_vld).numpy()\n",
    "ll_cnvp=nvpu_obj.log_prob(data_vld).numpy()"
   ]
  },
  {
   "cell_type": "code",
   "execution_count": null,
   "metadata": {},
   "outputs": [],
   "source": [
    "plt.hist((-ll_nvp+ll_cnvp).reshape(-1,1),100);\n",
    "# plt.plot(ll_cnvp)\n",
    "plt.xlim(-4,75)"
   ]
  },
  {
   "cell_type": "code",
   "execution_count": null,
   "metadata": {},
   "outputs": [],
   "source": [
    "nvpf_obj = RealNVPFlow(ndims,BatchNorm=True,num_bijectors=5)\n",
    "nll_nvpf=nvpf_obj.fit_dist(data_trn,\n",
    "            data_valid=data_vld,\n",
    "            optimizer = tf.optimizers.Adam(learning_rate=1E-3), \n",
    "            max_iters = 2000, \n",
    "            batch_size = 100, \n",
    "            print_interval=50)"
   ]
  },
  {
   "cell_type": "code",
   "execution_count": null,
   "metadata": {},
   "outputs": [],
   "source": [
    "plt.plot(nll_nvpf[0])\n",
    "plt.plot(nll_nvpf[1],'rs')"
   ]
  },
  {
   "cell_type": "code",
   "execution_count": null,
   "metadata": {},
   "outputs": [],
   "source": [
    "nll_cpf=cpf_obj.fit_dist(data_trn,\n",
    "                 data_valid=data_vld,\n",
    "                 optimizer = tf.optimizers.Adam(learning_rate=1E-3), \n",
    "                 max_iters = 1000, \n",
    "                 batch_size = 100, \n",
    "                 print_interval=50)\n"
   ]
  },
  {
   "cell_type": "code",
   "execution_count": null,
   "metadata": {},
   "outputs": [],
   "source": [
    "plt.plot(nll_cpf[0])\n",
    "plt.plot(nll_cpf[1],'rs-')"
   ]
  },
  {
   "cell_type": "markdown",
   "metadata": {},
   "source": [
    "out=cpf_obj.gen_copula_flow()"
   ]
  },
  {
   "cell_type": "code",
   "execution_count": null,
   "metadata": {},
   "outputs": [],
   "source": [
    "cpf_obj.gen_copula_flow()\n",
    "final_bijec=tfb.Chain([cpf_obj.marg_bijector,cpf_obj.copula_flow.bijector])\n",
    "final_flow=tfd.TransformedDistribution(\n",
    "    distribution=cpf_obj.copula_flow.distribution,\n",
    "    bijector=final_bijec)"
   ]
  },
  {
   "cell_type": "code",
   "execution_count": null,
   "metadata": {},
   "outputs": [],
   "source": [
    "idx=np.random.choice(data_vld.shape[0],1000,replace=False)\n",
    "data_vld=data_vld[idx,:]"
   ]
  },
  {
   "cell_type": "code",
   "execution_count": null,
   "metadata": {},
   "outputs": [],
   "source": [
    "ll_1=final_flow.log_prob(data_vld)\n",
    "ll_2=nvpf_obj.flow_rnvp.log_prob(data_vld)"
   ]
  },
  {
   "cell_type": "code",
   "execution_count": null,
   "metadata": {},
   "outputs": [],
   "source": [
    "# plt.plot(ll_1)\n",
    "plt.plot(ll_2[30:100]-ll_1[30:100],'ko-')\n",
    "np.mean(ll_1[30:100]-ll_2[30:100])"
   ]
  },
  {
   "cell_type": "code",
   "execution_count": null,
   "metadata": {},
   "outputs": [],
   "source": [
    "ss1= nvpf_obj.flow_rnvp.sample(10000)\n",
    "ss2=final_flow.sample(10000)"
   ]
  },
  {
   "cell_type": "code",
   "execution_count": null,
   "metadata": {},
   "outputs": [],
   "source": [
    "idx=7\n",
    "plt.subplot(121)\n",
    "out=plt.hist(ss1[:,idx].numpy().reshape(-1,1),50);\n",
    "plt.hist(data_tst[:10000,idx].reshape(-1,1),out[1],alpha=0.7);\n",
    "\n",
    "plt.subplot(122)\n",
    "out=plt.hist(ss2[:,idx].numpy().reshape(-1,1),50);\n",
    "plt.hist(data_tst[:10000,idx].reshape(-1,1),out[1],alpha=0.7);"
   ]
  },
  {
   "cell_type": "code",
   "execution_count": null,
   "metadata": {},
   "outputs": [],
   "source": [
    "ss1.shape"
   ]
  },
  {
   "cell_type": "code",
   "execution_count": null,
   "metadata": {},
   "outputs": [],
   "source": [
    "# data=np.random.randn(1000,4)\n",
    "# n_data_points=data.shape[0]\n",
    "# # gathering extreme points for each dimension (to be included in the training set)\n",
    "# extreme_points_ids=np.concatenate([np.argmin(data,axis=0), np.argmax(data,axis=0)])\n",
    "# np.unique(extreme_points_ids)"
   ]
  },
  {
   "cell_type": "code",
   "execution_count": null,
   "metadata": {},
   "outputs": [],
   "source": [
    "cpf_samps=pd.DataFrame(xx,columns=[f'd{i}' for i in range(ndims)])\n",
    "nvp_samps=pd.DataFrame(yy,columns=[f'd{i}' for i in range(ndims)])"
   ]
  },
  {
   "cell_type": "code",
   "execution_count": null,
   "metadata": {},
   "outputs": [],
   "source": [
    "pairs=[(9,7),(17,2),(8,3),(11,21),(11,3),(2,3)]\n",
    "fig,axs=plt.subplots(2,3,figsize=(10,6))\n",
    "\n",
    "for i in range(len(pairs)):\n",
    "    id1,id2=pairs[i]\n",
    "    r,c=divmod(i,3)\n",
    "    plt.sca(axs[r,c])\n",
    "    sns.kdeplot(data=cpf_samps,x=f'd{id1}',y=f'd{id2}',fill=True,color='b')\n",
    "    plt.plot(data_vld[:,id1],data_vld[:,id2],'rs',markersize=4)\n",
    "    plt.xlim(-2.5,2.5)\n",
    "    plt.ylim(-2.5,2.5)\n",
    "plt.tight_layout(pad=1.0)\n"
   ]
  },
  {
   "cell_type": "code",
   "execution_count": null,
   "metadata": {},
   "outputs": [],
   "source": [
    "nknots,nsamps,ndims=10000,10,4\n",
    "x_arr = tf.sort(np.random.randn(ndims,nknots).astype('float32'),axis=1)\n",
    "u_arr = tf.repeat(tf.reshape(tf.linspace(0,1,nknots),(1,-1)),ndims,axis=0)\n",
    "u_arr = tf.cast(u_arr,dtype=tf.float32)\n",
    "\n",
    "# temp array of lower and upper bounds along each dimensions\n",
    "x_lb = tf.repeat(tf.reshape(tf.gather(x_arr,0,axis=1),(-1,1)),nsamps,axis=1)\n",
    "x_ub = tf.repeat(tf.reshape(tf.gather(x_arr,nknots-1,axis=1),(-1,1)),nsamps,axis=1)\n",
    "\n",
    "# interpolation points\n",
    "x=np.random.randn(ndims,nsamps).astype('float32')\n",
    "idx=tf.searchsorted(x_arr,x)\n",
    "# taking care of the points outside the boundaries\n",
    "x=tf.where(idx==nknots,x_ub,x)\n",
    "x=tf.where(idx==0,x_lb,x)\n",
    "idx=tf.where(idx==nknots,nknots-1,idx)\n",
    "idx=tf.where(idx==0,1,idx)\n",
    "\n",
    "# gathering the x-grid values\n",
    "xb = tf.gather(x_arr,idx,axis=1,batch_dims=1)\n",
    "xa = tf.gather(x_arr,idx-1,axis=1,batch_dims=1)\n",
    "# gathering the y-grid values\n",
    "ub = tf.gather(u_arr,idx,axis=1,batch_dims=1)\n",
    "ua = tf.gather(u_arr,idx-1,axis=1,batch_dims=1)\n",
    "\n",
    "# obtaining the weights\n",
    "w1=(xb-x)/(xb-xa)\n",
    "w2=(x-xa)/(xb-xa)\n",
    "# getting the linear interpolation\n",
    "u=w1*ua+w2*ub\n",
    "print(u)"
   ]
  },
  {
   "cell_type": "code",
   "execution_count": null,
   "metadata": {},
   "outputs": [],
   "source": [
    "log_slope=tf.math.log((ub-ua)/(xb-xa))\n",
    "tf.reduce_sum(log_slope,axis=0)"
   ]
  },
  {
   "cell_type": "code",
   "execution_count": null,
   "metadata": {},
   "outputs": [],
   "source": []
  }
 ],
 "metadata": {
  "kernelspec": {
   "display_name": "Python 3 (ipykernel)",
   "language": "python",
   "name": "python3"
  },
  "language_info": {
   "codemirror_mode": {
    "name": "ipython",
    "version": 3
   },
   "file_extension": ".py",
   "mimetype": "text/x-python",
   "name": "python",
   "nbconvert_exporter": "python",
   "pygments_lexer": "ipython3",
   "version": "3.8.5"
  }
 },
 "nbformat": 4,
 "nbformat_minor": 4
}
